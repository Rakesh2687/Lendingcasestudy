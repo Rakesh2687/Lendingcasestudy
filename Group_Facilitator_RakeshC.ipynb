{
 "cells": [
  {
   "cell_type": "code",
   "execution_count": 5,
   "id": "1314ae8b",
   "metadata": {},
   "outputs": [],
   "source": [
    "## import libraries\n",
    "import numpy as np\n",
    "import pandas as pd\n",
    "import matplotlib.pyplot as plt\n",
    "import seaborn as sns\n",
    "import warnings\n",
    "warnings.filterwarnings('ignore')"
   ]
  },
  {
   "cell_type": "code",
   "execution_count": 2,
   "id": "828ad247",
   "metadata": {},
   "outputs": [],
   "source": [
    "#reading the data\n",
    "loan_data = pd.read_csv(\"loan.csv\")"
   ]
  },
  {
   "cell_type": "code",
   "execution_count": 3,
   "id": "84f349e8",
   "metadata": {},
   "outputs": [
    {
     "data": {
      "text/html": [
       "<div>\n",
       "<style scoped>\n",
       "    .dataframe tbody tr th:only-of-type {\n",
       "        vertical-align: middle;\n",
       "    }\n",
       "\n",
       "    .dataframe tbody tr th {\n",
       "        vertical-align: top;\n",
       "    }\n",
       "\n",
       "    .dataframe thead th {\n",
       "        text-align: right;\n",
       "    }\n",
       "</style>\n",
       "<table border=\"1\" class=\"dataframe\">\n",
       "  <thead>\n",
       "    <tr style=\"text-align: right;\">\n",
       "      <th></th>\n",
       "      <th>id</th>\n",
       "      <th>member_id</th>\n",
       "      <th>loan_amnt</th>\n",
       "      <th>funded_amnt</th>\n",
       "      <th>funded_amnt_inv</th>\n",
       "      <th>term</th>\n",
       "      <th>int_rate</th>\n",
       "      <th>installment</th>\n",
       "      <th>grade</th>\n",
       "      <th>sub_grade</th>\n",
       "      <th>...</th>\n",
       "      <th>num_tl_90g_dpd_24m</th>\n",
       "      <th>num_tl_op_past_12m</th>\n",
       "      <th>pct_tl_nvr_dlq</th>\n",
       "      <th>percent_bc_gt_75</th>\n",
       "      <th>pub_rec_bankruptcies</th>\n",
       "      <th>tax_liens</th>\n",
       "      <th>tot_hi_cred_lim</th>\n",
       "      <th>total_bal_ex_mort</th>\n",
       "      <th>total_bc_limit</th>\n",
       "      <th>total_il_high_credit_limit</th>\n",
       "    </tr>\n",
       "  </thead>\n",
       "  <tbody>\n",
       "    <tr>\n",
       "      <th>0</th>\n",
       "      <td>1077501</td>\n",
       "      <td>1296599</td>\n",
       "      <td>5000</td>\n",
       "      <td>5000</td>\n",
       "      <td>4975.0</td>\n",
       "      <td>36 months</td>\n",
       "      <td>10.65%</td>\n",
       "      <td>162.87</td>\n",
       "      <td>B</td>\n",
       "      <td>B2</td>\n",
       "      <td>...</td>\n",
       "      <td>NaN</td>\n",
       "      <td>NaN</td>\n",
       "      <td>NaN</td>\n",
       "      <td>NaN</td>\n",
       "      <td>0.0</td>\n",
       "      <td>0.0</td>\n",
       "      <td>NaN</td>\n",
       "      <td>NaN</td>\n",
       "      <td>NaN</td>\n",
       "      <td>NaN</td>\n",
       "    </tr>\n",
       "    <tr>\n",
       "      <th>1</th>\n",
       "      <td>1077430</td>\n",
       "      <td>1314167</td>\n",
       "      <td>2500</td>\n",
       "      <td>2500</td>\n",
       "      <td>2500.0</td>\n",
       "      <td>60 months</td>\n",
       "      <td>15.27%</td>\n",
       "      <td>59.83</td>\n",
       "      <td>C</td>\n",
       "      <td>C4</td>\n",
       "      <td>...</td>\n",
       "      <td>NaN</td>\n",
       "      <td>NaN</td>\n",
       "      <td>NaN</td>\n",
       "      <td>NaN</td>\n",
       "      <td>0.0</td>\n",
       "      <td>0.0</td>\n",
       "      <td>NaN</td>\n",
       "      <td>NaN</td>\n",
       "      <td>NaN</td>\n",
       "      <td>NaN</td>\n",
       "    </tr>\n",
       "    <tr>\n",
       "      <th>2</th>\n",
       "      <td>1077175</td>\n",
       "      <td>1313524</td>\n",
       "      <td>2400</td>\n",
       "      <td>2400</td>\n",
       "      <td>2400.0</td>\n",
       "      <td>36 months</td>\n",
       "      <td>15.96%</td>\n",
       "      <td>84.33</td>\n",
       "      <td>C</td>\n",
       "      <td>C5</td>\n",
       "      <td>...</td>\n",
       "      <td>NaN</td>\n",
       "      <td>NaN</td>\n",
       "      <td>NaN</td>\n",
       "      <td>NaN</td>\n",
       "      <td>0.0</td>\n",
       "      <td>0.0</td>\n",
       "      <td>NaN</td>\n",
       "      <td>NaN</td>\n",
       "      <td>NaN</td>\n",
       "      <td>NaN</td>\n",
       "    </tr>\n",
       "    <tr>\n",
       "      <th>3</th>\n",
       "      <td>1076863</td>\n",
       "      <td>1277178</td>\n",
       "      <td>10000</td>\n",
       "      <td>10000</td>\n",
       "      <td>10000.0</td>\n",
       "      <td>36 months</td>\n",
       "      <td>13.49%</td>\n",
       "      <td>339.31</td>\n",
       "      <td>C</td>\n",
       "      <td>C1</td>\n",
       "      <td>...</td>\n",
       "      <td>NaN</td>\n",
       "      <td>NaN</td>\n",
       "      <td>NaN</td>\n",
       "      <td>NaN</td>\n",
       "      <td>0.0</td>\n",
       "      <td>0.0</td>\n",
       "      <td>NaN</td>\n",
       "      <td>NaN</td>\n",
       "      <td>NaN</td>\n",
       "      <td>NaN</td>\n",
       "    </tr>\n",
       "    <tr>\n",
       "      <th>4</th>\n",
       "      <td>1075358</td>\n",
       "      <td>1311748</td>\n",
       "      <td>3000</td>\n",
       "      <td>3000</td>\n",
       "      <td>3000.0</td>\n",
       "      <td>60 months</td>\n",
       "      <td>12.69%</td>\n",
       "      <td>67.79</td>\n",
       "      <td>B</td>\n",
       "      <td>B5</td>\n",
       "      <td>...</td>\n",
       "      <td>NaN</td>\n",
       "      <td>NaN</td>\n",
       "      <td>NaN</td>\n",
       "      <td>NaN</td>\n",
       "      <td>0.0</td>\n",
       "      <td>0.0</td>\n",
       "      <td>NaN</td>\n",
       "      <td>NaN</td>\n",
       "      <td>NaN</td>\n",
       "      <td>NaN</td>\n",
       "    </tr>\n",
       "  </tbody>\n",
       "</table>\n",
       "<p>5 rows × 111 columns</p>\n",
       "</div>"
      ],
      "text/plain": [
       "        id  member_id  loan_amnt  funded_amnt  funded_amnt_inv        term  \\\n",
       "0  1077501    1296599       5000         5000           4975.0   36 months   \n",
       "1  1077430    1314167       2500         2500           2500.0   60 months   \n",
       "2  1077175    1313524       2400         2400           2400.0   36 months   \n",
       "3  1076863    1277178      10000        10000          10000.0   36 months   \n",
       "4  1075358    1311748       3000         3000           3000.0   60 months   \n",
       "\n",
       "  int_rate  installment grade sub_grade  ... num_tl_90g_dpd_24m  \\\n",
       "0   10.65%       162.87     B        B2  ...                NaN   \n",
       "1   15.27%        59.83     C        C4  ...                NaN   \n",
       "2   15.96%        84.33     C        C5  ...                NaN   \n",
       "3   13.49%       339.31     C        C1  ...                NaN   \n",
       "4   12.69%        67.79     B        B5  ...                NaN   \n",
       "\n",
       "  num_tl_op_past_12m pct_tl_nvr_dlq  percent_bc_gt_75 pub_rec_bankruptcies  \\\n",
       "0                NaN            NaN               NaN                  0.0   \n",
       "1                NaN            NaN               NaN                  0.0   \n",
       "2                NaN            NaN               NaN                  0.0   \n",
       "3                NaN            NaN               NaN                  0.0   \n",
       "4                NaN            NaN               NaN                  0.0   \n",
       "\n",
       "  tax_liens tot_hi_cred_lim total_bal_ex_mort total_bc_limit  \\\n",
       "0       0.0             NaN               NaN            NaN   \n",
       "1       0.0             NaN               NaN            NaN   \n",
       "2       0.0             NaN               NaN            NaN   \n",
       "3       0.0             NaN               NaN            NaN   \n",
       "4       0.0             NaN               NaN            NaN   \n",
       "\n",
       "  total_il_high_credit_limit  \n",
       "0                        NaN  \n",
       "1                        NaN  \n",
       "2                        NaN  \n",
       "3                        NaN  \n",
       "4                        NaN  \n",
       "\n",
       "[5 rows x 111 columns]"
      ]
     },
     "execution_count": 3,
     "metadata": {},
     "output_type": "execute_result"
    }
   ],
   "source": [
    "loan_data.head()"
   ]
  },
  {
   "cell_type": "code",
   "execution_count": 4,
   "id": "2fa42c04",
   "metadata": {},
   "outputs": [
    {
     "data": {
      "text/plain": [
       "(39717, 111)"
      ]
     },
     "execution_count": 4,
     "metadata": {},
     "output_type": "execute_result"
    }
   ],
   "source": [
    "loan_data.shape"
   ]
  },
  {
   "cell_type": "code",
   "execution_count": 5,
   "id": "3620c74c",
   "metadata": {},
   "outputs": [
    {
     "data": {
      "text/plain": [
       "id                                0\n",
       "member_id                         0\n",
       "loan_amnt                         0\n",
       "funded_amnt                       0\n",
       "funded_amnt_inv                   0\n",
       "                              ...  \n",
       "tax_liens                        39\n",
       "tot_hi_cred_lim               39717\n",
       "total_bal_ex_mort             39717\n",
       "total_bc_limit                39717\n",
       "total_il_high_credit_limit    39717\n",
       "Length: 111, dtype: int64"
      ]
     },
     "execution_count": 5,
     "metadata": {},
     "output_type": "execute_result"
    }
   ],
   "source": [
    "loan_data.isnull().sum()"
   ]
  },
  {
   "cell_type": "code",
   "execution_count": 6,
   "id": "4088e309",
   "metadata": {},
   "outputs": [
    {
     "data": {
      "text/html": [
       "<div>\n",
       "<style scoped>\n",
       "    .dataframe tbody tr th:only-of-type {\n",
       "        vertical-align: middle;\n",
       "    }\n",
       "\n",
       "    .dataframe tbody tr th {\n",
       "        vertical-align: top;\n",
       "    }\n",
       "\n",
       "    .dataframe thead th {\n",
       "        text-align: right;\n",
       "    }\n",
       "</style>\n",
       "<table border=\"1\" class=\"dataframe\">\n",
       "  <thead>\n",
       "    <tr style=\"text-align: right;\">\n",
       "      <th></th>\n",
       "      <th>id</th>\n",
       "      <th>member_id</th>\n",
       "      <th>loan_amnt</th>\n",
       "      <th>funded_amnt</th>\n",
       "      <th>funded_amnt_inv</th>\n",
       "      <th>term</th>\n",
       "      <th>int_rate</th>\n",
       "      <th>installment</th>\n",
       "      <th>grade</th>\n",
       "      <th>sub_grade</th>\n",
       "      <th>...</th>\n",
       "      <th>next_pymnt_d</th>\n",
       "      <th>last_credit_pull_d</th>\n",
       "      <th>collections_12_mths_ex_med</th>\n",
       "      <th>policy_code</th>\n",
       "      <th>application_type</th>\n",
       "      <th>acc_now_delinq</th>\n",
       "      <th>chargeoff_within_12_mths</th>\n",
       "      <th>delinq_amnt</th>\n",
       "      <th>pub_rec_bankruptcies</th>\n",
       "      <th>tax_liens</th>\n",
       "    </tr>\n",
       "  </thead>\n",
       "  <tbody>\n",
       "    <tr>\n",
       "      <th>0</th>\n",
       "      <td>1077501</td>\n",
       "      <td>1296599</td>\n",
       "      <td>5000</td>\n",
       "      <td>5000</td>\n",
       "      <td>4975.0</td>\n",
       "      <td>36 months</td>\n",
       "      <td>10.65%</td>\n",
       "      <td>162.87</td>\n",
       "      <td>B</td>\n",
       "      <td>B2</td>\n",
       "      <td>...</td>\n",
       "      <td>NaN</td>\n",
       "      <td>May-16</td>\n",
       "      <td>0.0</td>\n",
       "      <td>1</td>\n",
       "      <td>INDIVIDUAL</td>\n",
       "      <td>0</td>\n",
       "      <td>0.0</td>\n",
       "      <td>0</td>\n",
       "      <td>0.0</td>\n",
       "      <td>0.0</td>\n",
       "    </tr>\n",
       "    <tr>\n",
       "      <th>1</th>\n",
       "      <td>1077430</td>\n",
       "      <td>1314167</td>\n",
       "      <td>2500</td>\n",
       "      <td>2500</td>\n",
       "      <td>2500.0</td>\n",
       "      <td>60 months</td>\n",
       "      <td>15.27%</td>\n",
       "      <td>59.83</td>\n",
       "      <td>C</td>\n",
       "      <td>C4</td>\n",
       "      <td>...</td>\n",
       "      <td>NaN</td>\n",
       "      <td>Sep-13</td>\n",
       "      <td>0.0</td>\n",
       "      <td>1</td>\n",
       "      <td>INDIVIDUAL</td>\n",
       "      <td>0</td>\n",
       "      <td>0.0</td>\n",
       "      <td>0</td>\n",
       "      <td>0.0</td>\n",
       "      <td>0.0</td>\n",
       "    </tr>\n",
       "    <tr>\n",
       "      <th>2</th>\n",
       "      <td>1077175</td>\n",
       "      <td>1313524</td>\n",
       "      <td>2400</td>\n",
       "      <td>2400</td>\n",
       "      <td>2400.0</td>\n",
       "      <td>36 months</td>\n",
       "      <td>15.96%</td>\n",
       "      <td>84.33</td>\n",
       "      <td>C</td>\n",
       "      <td>C5</td>\n",
       "      <td>...</td>\n",
       "      <td>NaN</td>\n",
       "      <td>May-16</td>\n",
       "      <td>0.0</td>\n",
       "      <td>1</td>\n",
       "      <td>INDIVIDUAL</td>\n",
       "      <td>0</td>\n",
       "      <td>0.0</td>\n",
       "      <td>0</td>\n",
       "      <td>0.0</td>\n",
       "      <td>0.0</td>\n",
       "    </tr>\n",
       "    <tr>\n",
       "      <th>3</th>\n",
       "      <td>1076863</td>\n",
       "      <td>1277178</td>\n",
       "      <td>10000</td>\n",
       "      <td>10000</td>\n",
       "      <td>10000.0</td>\n",
       "      <td>36 months</td>\n",
       "      <td>13.49%</td>\n",
       "      <td>339.31</td>\n",
       "      <td>C</td>\n",
       "      <td>C1</td>\n",
       "      <td>...</td>\n",
       "      <td>NaN</td>\n",
       "      <td>Apr-16</td>\n",
       "      <td>0.0</td>\n",
       "      <td>1</td>\n",
       "      <td>INDIVIDUAL</td>\n",
       "      <td>0</td>\n",
       "      <td>0.0</td>\n",
       "      <td>0</td>\n",
       "      <td>0.0</td>\n",
       "      <td>0.0</td>\n",
       "    </tr>\n",
       "    <tr>\n",
       "      <th>4</th>\n",
       "      <td>1075358</td>\n",
       "      <td>1311748</td>\n",
       "      <td>3000</td>\n",
       "      <td>3000</td>\n",
       "      <td>3000.0</td>\n",
       "      <td>60 months</td>\n",
       "      <td>12.69%</td>\n",
       "      <td>67.79</td>\n",
       "      <td>B</td>\n",
       "      <td>B5</td>\n",
       "      <td>...</td>\n",
       "      <td>Jun-16</td>\n",
       "      <td>May-16</td>\n",
       "      <td>0.0</td>\n",
       "      <td>1</td>\n",
       "      <td>INDIVIDUAL</td>\n",
       "      <td>0</td>\n",
       "      <td>0.0</td>\n",
       "      <td>0</td>\n",
       "      <td>0.0</td>\n",
       "      <td>0.0</td>\n",
       "    </tr>\n",
       "  </tbody>\n",
       "</table>\n",
       "<p>5 rows × 57 columns</p>\n",
       "</div>"
      ],
      "text/plain": [
       "        id  member_id  loan_amnt  funded_amnt  funded_amnt_inv        term  \\\n",
       "0  1077501    1296599       5000         5000           4975.0   36 months   \n",
       "1  1077430    1314167       2500         2500           2500.0   60 months   \n",
       "2  1077175    1313524       2400         2400           2400.0   36 months   \n",
       "3  1076863    1277178      10000        10000          10000.0   36 months   \n",
       "4  1075358    1311748       3000         3000           3000.0   60 months   \n",
       "\n",
       "  int_rate  installment grade sub_grade  ... next_pymnt_d last_credit_pull_d  \\\n",
       "0   10.65%       162.87     B        B2  ...          NaN             May-16   \n",
       "1   15.27%        59.83     C        C4  ...          NaN             Sep-13   \n",
       "2   15.96%        84.33     C        C5  ...          NaN             May-16   \n",
       "3   13.49%       339.31     C        C1  ...          NaN             Apr-16   \n",
       "4   12.69%        67.79     B        B5  ...       Jun-16             May-16   \n",
       "\n",
       "  collections_12_mths_ex_med  policy_code application_type acc_now_delinq  \\\n",
       "0                        0.0            1       INDIVIDUAL              0   \n",
       "1                        0.0            1       INDIVIDUAL              0   \n",
       "2                        0.0            1       INDIVIDUAL              0   \n",
       "3                        0.0            1       INDIVIDUAL              0   \n",
       "4                        0.0            1       INDIVIDUAL              0   \n",
       "\n",
       "  chargeoff_within_12_mths delinq_amnt pub_rec_bankruptcies tax_liens  \n",
       "0                      0.0           0                  0.0       0.0  \n",
       "1                      0.0           0                  0.0       0.0  \n",
       "2                      0.0           0                  0.0       0.0  \n",
       "3                      0.0           0                  0.0       0.0  \n",
       "4                      0.0           0                  0.0       0.0  \n",
       "\n",
       "[5 rows x 57 columns]"
      ]
     },
     "execution_count": 6,
     "metadata": {},
     "output_type": "execute_result"
    }
   ],
   "source": [
    "loan_data.dropna(axis = 1, how = 'all', inplace = True)\n",
    "loan_data.head()"
   ]
  },
  {
   "cell_type": "markdown",
   "id": "8843c6a3",
   "metadata": {},
   "source": [
    "many columns with single values are being removed , which are not contributing"
   ]
  },
  {
   "cell_type": "code",
   "execution_count": 8,
   "id": "0a8cc522",
   "metadata": {},
   "outputs": [
    {
     "data": {
      "text/html": [
       "<div>\n",
       "<style scoped>\n",
       "    .dataframe tbody tr th:only-of-type {\n",
       "        vertical-align: middle;\n",
       "    }\n",
       "\n",
       "    .dataframe tbody tr th {\n",
       "        vertical-align: top;\n",
       "    }\n",
       "\n",
       "    .dataframe thead th {\n",
       "        text-align: right;\n",
       "    }\n",
       "</style>\n",
       "<table border=\"1\" class=\"dataframe\">\n",
       "  <thead>\n",
       "    <tr style=\"text-align: right;\">\n",
       "      <th></th>\n",
       "      <th>id</th>\n",
       "      <th>member_id</th>\n",
       "      <th>loan_amnt</th>\n",
       "      <th>funded_amnt</th>\n",
       "      <th>funded_amnt_inv</th>\n",
       "      <th>term</th>\n",
       "      <th>int_rate</th>\n",
       "      <th>installment</th>\n",
       "      <th>grade</th>\n",
       "      <th>sub_grade</th>\n",
       "      <th>...</th>\n",
       "      <th>total_rec_prncp</th>\n",
       "      <th>total_rec_int</th>\n",
       "      <th>total_rec_late_fee</th>\n",
       "      <th>recoveries</th>\n",
       "      <th>collection_recovery_fee</th>\n",
       "      <th>last_pymnt_d</th>\n",
       "      <th>last_pymnt_amnt</th>\n",
       "      <th>next_pymnt_d</th>\n",
       "      <th>last_credit_pull_d</th>\n",
       "      <th>chargeoff_within_12_mths</th>\n",
       "    </tr>\n",
       "  </thead>\n",
       "  <tbody>\n",
       "    <tr>\n",
       "      <th>0</th>\n",
       "      <td>1077501</td>\n",
       "      <td>1296599</td>\n",
       "      <td>5000</td>\n",
       "      <td>5000</td>\n",
       "      <td>4975.0</td>\n",
       "      <td>36 months</td>\n",
       "      <td>10.65%</td>\n",
       "      <td>162.87</td>\n",
       "      <td>B</td>\n",
       "      <td>B2</td>\n",
       "      <td>...</td>\n",
       "      <td>5000.00</td>\n",
       "      <td>863.16</td>\n",
       "      <td>0.00</td>\n",
       "      <td>0.00</td>\n",
       "      <td>0.00</td>\n",
       "      <td>Jan-15</td>\n",
       "      <td>171.62</td>\n",
       "      <td>NaN</td>\n",
       "      <td>May-16</td>\n",
       "      <td>0.0</td>\n",
       "    </tr>\n",
       "    <tr>\n",
       "      <th>1</th>\n",
       "      <td>1077430</td>\n",
       "      <td>1314167</td>\n",
       "      <td>2500</td>\n",
       "      <td>2500</td>\n",
       "      <td>2500.0</td>\n",
       "      <td>60 months</td>\n",
       "      <td>15.27%</td>\n",
       "      <td>59.83</td>\n",
       "      <td>C</td>\n",
       "      <td>C4</td>\n",
       "      <td>...</td>\n",
       "      <td>456.46</td>\n",
       "      <td>435.17</td>\n",
       "      <td>0.00</td>\n",
       "      <td>117.08</td>\n",
       "      <td>1.11</td>\n",
       "      <td>Apr-13</td>\n",
       "      <td>119.66</td>\n",
       "      <td>NaN</td>\n",
       "      <td>Sep-13</td>\n",
       "      <td>0.0</td>\n",
       "    </tr>\n",
       "    <tr>\n",
       "      <th>2</th>\n",
       "      <td>1077175</td>\n",
       "      <td>1313524</td>\n",
       "      <td>2400</td>\n",
       "      <td>2400</td>\n",
       "      <td>2400.0</td>\n",
       "      <td>36 months</td>\n",
       "      <td>15.96%</td>\n",
       "      <td>84.33</td>\n",
       "      <td>C</td>\n",
       "      <td>C5</td>\n",
       "      <td>...</td>\n",
       "      <td>2400.00</td>\n",
       "      <td>605.67</td>\n",
       "      <td>0.00</td>\n",
       "      <td>0.00</td>\n",
       "      <td>0.00</td>\n",
       "      <td>Jun-14</td>\n",
       "      <td>649.91</td>\n",
       "      <td>NaN</td>\n",
       "      <td>May-16</td>\n",
       "      <td>0.0</td>\n",
       "    </tr>\n",
       "    <tr>\n",
       "      <th>3</th>\n",
       "      <td>1076863</td>\n",
       "      <td>1277178</td>\n",
       "      <td>10000</td>\n",
       "      <td>10000</td>\n",
       "      <td>10000.0</td>\n",
       "      <td>36 months</td>\n",
       "      <td>13.49%</td>\n",
       "      <td>339.31</td>\n",
       "      <td>C</td>\n",
       "      <td>C1</td>\n",
       "      <td>...</td>\n",
       "      <td>10000.00</td>\n",
       "      <td>2214.92</td>\n",
       "      <td>16.97</td>\n",
       "      <td>0.00</td>\n",
       "      <td>0.00</td>\n",
       "      <td>Jan-15</td>\n",
       "      <td>357.48</td>\n",
       "      <td>NaN</td>\n",
       "      <td>Apr-16</td>\n",
       "      <td>0.0</td>\n",
       "    </tr>\n",
       "    <tr>\n",
       "      <th>4</th>\n",
       "      <td>1075358</td>\n",
       "      <td>1311748</td>\n",
       "      <td>3000</td>\n",
       "      <td>3000</td>\n",
       "      <td>3000.0</td>\n",
       "      <td>60 months</td>\n",
       "      <td>12.69%</td>\n",
       "      <td>67.79</td>\n",
       "      <td>B</td>\n",
       "      <td>B5</td>\n",
       "      <td>...</td>\n",
       "      <td>2475.94</td>\n",
       "      <td>1037.39</td>\n",
       "      <td>0.00</td>\n",
       "      <td>0.00</td>\n",
       "      <td>0.00</td>\n",
       "      <td>May-16</td>\n",
       "      <td>67.79</td>\n",
       "      <td>Jun-16</td>\n",
       "      <td>May-16</td>\n",
       "      <td>0.0</td>\n",
       "    </tr>\n",
       "  </tbody>\n",
       "</table>\n",
       "<p>5 rows × 48 columns</p>\n",
       "</div>"
      ],
      "text/plain": [
       "        id  member_id  loan_amnt  funded_amnt  funded_amnt_inv        term  \\\n",
       "0  1077501    1296599       5000         5000           4975.0   36 months   \n",
       "1  1077430    1314167       2500         2500           2500.0   60 months   \n",
       "2  1077175    1313524       2400         2400           2400.0   36 months   \n",
       "3  1076863    1277178      10000        10000          10000.0   36 months   \n",
       "4  1075358    1311748       3000         3000           3000.0   60 months   \n",
       "\n",
       "  int_rate  installment grade sub_grade  ... total_rec_prncp total_rec_int  \\\n",
       "0   10.65%       162.87     B        B2  ...         5000.00        863.16   \n",
       "1   15.27%        59.83     C        C4  ...          456.46        435.17   \n",
       "2   15.96%        84.33     C        C5  ...         2400.00        605.67   \n",
       "3   13.49%       339.31     C        C1  ...        10000.00       2214.92   \n",
       "4   12.69%        67.79     B        B5  ...         2475.94       1037.39   \n",
       "\n",
       "  total_rec_late_fee  recoveries collection_recovery_fee last_pymnt_d  \\\n",
       "0               0.00        0.00                    0.00       Jan-15   \n",
       "1               0.00      117.08                    1.11       Apr-13   \n",
       "2               0.00        0.00                    0.00       Jun-14   \n",
       "3              16.97        0.00                    0.00       Jan-15   \n",
       "4               0.00        0.00                    0.00       May-16   \n",
       "\n",
       "  last_pymnt_amnt next_pymnt_d last_credit_pull_d chargeoff_within_12_mths  \n",
       "0          171.62          NaN             May-16                      0.0  \n",
       "1          119.66          NaN             Sep-13                      0.0  \n",
       "2          649.91          NaN             May-16                      0.0  \n",
       "3          357.48          NaN             Apr-16                      0.0  \n",
       "4           67.79       Jun-16             May-16                      0.0  \n",
       "\n",
       "[5 rows x 48 columns]"
      ]
     },
     "execution_count": 8,
     "metadata": {},
     "output_type": "execute_result"
    }
   ],
   "source": [
    "loan_data.drop(['pymnt_plan', \"initial_list_status\",'collections_12_mths_ex_med','policy_code','acc_now_delinq', 'application_type', 'pub_rec_bankruptcies', 'tax_liens', 'delinq_amnt'], axis = 1, inplace = True)\n",
    "loan_data.head()"
   ]
  },
  {
   "cell_type": "markdown",
   "id": "558cc837",
   "metadata": {},
   "source": [
    "there are 48 columns out of which few corresponds to the post approval of loan\n",
    "1) before approval of loan few prerequisite has to be checked (user details and driving factor)\n",
    "2) loan contributing preapproval parameters which indirectly doesn't support has to be removed\n",
    "3) \"id\", \"member_id\", \"url\", \"title\", \"emp_title\", \"zip_code\", \"last_credit_pull_d\", \"addr_state\",\"out_prncp_inv\" , \"total_pymnt_inv \",\"funded_amnt\": this columns are removed based on its less weightage to preapproval process"
   ]
  },
  {
   "cell_type": "code",
   "execution_count": 15,
   "id": "7568e0be",
   "metadata": {},
   "outputs": [],
   "source": [
    "loan_data.drop(labels = [\"id\", \"member_id\", \"url\", \"title\", \"emp_title\", \"zip_code\", \"last_credit_pull_d\", \"addr_state\",\"desc\",\"out_prncp_inv\",\"total_pymnt_inv\",\"funded_amnt\"],axis=1,inplace=True)"
   ]
  },
  {
   "cell_type": "code",
   "execution_count": 17,
   "id": "d00e0813",
   "metadata": {},
   "outputs": [
    {
     "data": {
      "text/html": [
       "<div>\n",
       "<style scoped>\n",
       "    .dataframe tbody tr th:only-of-type {\n",
       "        vertical-align: middle;\n",
       "    }\n",
       "\n",
       "    .dataframe tbody tr th {\n",
       "        vertical-align: top;\n",
       "    }\n",
       "\n",
       "    .dataframe thead th {\n",
       "        text-align: right;\n",
       "    }\n",
       "</style>\n",
       "<table border=\"1\" class=\"dataframe\">\n",
       "  <thead>\n",
       "    <tr style=\"text-align: right;\">\n",
       "      <th></th>\n",
       "      <th>loan_amnt</th>\n",
       "      <th>funded_amnt_inv</th>\n",
       "      <th>term</th>\n",
       "      <th>int_rate</th>\n",
       "      <th>installment</th>\n",
       "      <th>grade</th>\n",
       "      <th>sub_grade</th>\n",
       "      <th>emp_length</th>\n",
       "      <th>home_ownership</th>\n",
       "      <th>annual_inc</th>\n",
       "      <th>...</th>\n",
       "      <th>total_pymnt</th>\n",
       "      <th>total_rec_prncp</th>\n",
       "      <th>total_rec_int</th>\n",
       "      <th>total_rec_late_fee</th>\n",
       "      <th>recoveries</th>\n",
       "      <th>collection_recovery_fee</th>\n",
       "      <th>last_pymnt_d</th>\n",
       "      <th>last_pymnt_amnt</th>\n",
       "      <th>next_pymnt_d</th>\n",
       "      <th>chargeoff_within_12_mths</th>\n",
       "    </tr>\n",
       "  </thead>\n",
       "  <tbody>\n",
       "    <tr>\n",
       "      <th>0</th>\n",
       "      <td>5000</td>\n",
       "      <td>4975.0</td>\n",
       "      <td>36 months</td>\n",
       "      <td>10.65%</td>\n",
       "      <td>162.87</td>\n",
       "      <td>B</td>\n",
       "      <td>B2</td>\n",
       "      <td>10+ years</td>\n",
       "      <td>RENT</td>\n",
       "      <td>24000.0</td>\n",
       "      <td>...</td>\n",
       "      <td>5863.155187</td>\n",
       "      <td>5000.00</td>\n",
       "      <td>863.16</td>\n",
       "      <td>0.00</td>\n",
       "      <td>0.00</td>\n",
       "      <td>0.00</td>\n",
       "      <td>Jan-15</td>\n",
       "      <td>171.62</td>\n",
       "      <td>NaN</td>\n",
       "      <td>0.0</td>\n",
       "    </tr>\n",
       "    <tr>\n",
       "      <th>1</th>\n",
       "      <td>2500</td>\n",
       "      <td>2500.0</td>\n",
       "      <td>60 months</td>\n",
       "      <td>15.27%</td>\n",
       "      <td>59.83</td>\n",
       "      <td>C</td>\n",
       "      <td>C4</td>\n",
       "      <td>&lt; 1 year</td>\n",
       "      <td>RENT</td>\n",
       "      <td>30000.0</td>\n",
       "      <td>...</td>\n",
       "      <td>1008.710000</td>\n",
       "      <td>456.46</td>\n",
       "      <td>435.17</td>\n",
       "      <td>0.00</td>\n",
       "      <td>117.08</td>\n",
       "      <td>1.11</td>\n",
       "      <td>Apr-13</td>\n",
       "      <td>119.66</td>\n",
       "      <td>NaN</td>\n",
       "      <td>0.0</td>\n",
       "    </tr>\n",
       "    <tr>\n",
       "      <th>2</th>\n",
       "      <td>2400</td>\n",
       "      <td>2400.0</td>\n",
       "      <td>36 months</td>\n",
       "      <td>15.96%</td>\n",
       "      <td>84.33</td>\n",
       "      <td>C</td>\n",
       "      <td>C5</td>\n",
       "      <td>10+ years</td>\n",
       "      <td>RENT</td>\n",
       "      <td>12252.0</td>\n",
       "      <td>...</td>\n",
       "      <td>3005.666844</td>\n",
       "      <td>2400.00</td>\n",
       "      <td>605.67</td>\n",
       "      <td>0.00</td>\n",
       "      <td>0.00</td>\n",
       "      <td>0.00</td>\n",
       "      <td>Jun-14</td>\n",
       "      <td>649.91</td>\n",
       "      <td>NaN</td>\n",
       "      <td>0.0</td>\n",
       "    </tr>\n",
       "    <tr>\n",
       "      <th>3</th>\n",
       "      <td>10000</td>\n",
       "      <td>10000.0</td>\n",
       "      <td>36 months</td>\n",
       "      <td>13.49%</td>\n",
       "      <td>339.31</td>\n",
       "      <td>C</td>\n",
       "      <td>C1</td>\n",
       "      <td>10+ years</td>\n",
       "      <td>RENT</td>\n",
       "      <td>49200.0</td>\n",
       "      <td>...</td>\n",
       "      <td>12231.890000</td>\n",
       "      <td>10000.00</td>\n",
       "      <td>2214.92</td>\n",
       "      <td>16.97</td>\n",
       "      <td>0.00</td>\n",
       "      <td>0.00</td>\n",
       "      <td>Jan-15</td>\n",
       "      <td>357.48</td>\n",
       "      <td>NaN</td>\n",
       "      <td>0.0</td>\n",
       "    </tr>\n",
       "    <tr>\n",
       "      <th>4</th>\n",
       "      <td>3000</td>\n",
       "      <td>3000.0</td>\n",
       "      <td>60 months</td>\n",
       "      <td>12.69%</td>\n",
       "      <td>67.79</td>\n",
       "      <td>B</td>\n",
       "      <td>B5</td>\n",
       "      <td>1 year</td>\n",
       "      <td>RENT</td>\n",
       "      <td>80000.0</td>\n",
       "      <td>...</td>\n",
       "      <td>3513.330000</td>\n",
       "      <td>2475.94</td>\n",
       "      <td>1037.39</td>\n",
       "      <td>0.00</td>\n",
       "      <td>0.00</td>\n",
       "      <td>0.00</td>\n",
       "      <td>May-16</td>\n",
       "      <td>67.79</td>\n",
       "      <td>Jun-16</td>\n",
       "      <td>0.0</td>\n",
       "    </tr>\n",
       "  </tbody>\n",
       "</table>\n",
       "<p>5 rows × 36 columns</p>\n",
       "</div>"
      ],
      "text/plain": [
       "   loan_amnt  funded_amnt_inv        term int_rate  installment grade  \\\n",
       "0       5000           4975.0   36 months   10.65%       162.87     B   \n",
       "1       2500           2500.0   60 months   15.27%        59.83     C   \n",
       "2       2400           2400.0   36 months   15.96%        84.33     C   \n",
       "3      10000          10000.0   36 months   13.49%       339.31     C   \n",
       "4       3000           3000.0   60 months   12.69%        67.79     B   \n",
       "\n",
       "  sub_grade emp_length home_ownership  annual_inc  ...   total_pymnt  \\\n",
       "0        B2  10+ years           RENT     24000.0  ...   5863.155187   \n",
       "1        C4   < 1 year           RENT     30000.0  ...   1008.710000   \n",
       "2        C5  10+ years           RENT     12252.0  ...   3005.666844   \n",
       "3        C1  10+ years           RENT     49200.0  ...  12231.890000   \n",
       "4        B5     1 year           RENT     80000.0  ...   3513.330000   \n",
       "\n",
       "  total_rec_prncp total_rec_int total_rec_late_fee  recoveries  \\\n",
       "0         5000.00        863.16               0.00        0.00   \n",
       "1          456.46        435.17               0.00      117.08   \n",
       "2         2400.00        605.67               0.00        0.00   \n",
       "3        10000.00       2214.92              16.97        0.00   \n",
       "4         2475.94       1037.39               0.00        0.00   \n",
       "\n",
       "   collection_recovery_fee last_pymnt_d  last_pymnt_amnt  next_pymnt_d  \\\n",
       "0                     0.00       Jan-15           171.62           NaN   \n",
       "1                     1.11       Apr-13           119.66           NaN   \n",
       "2                     0.00       Jun-14           649.91           NaN   \n",
       "3                     0.00       Jan-15           357.48           NaN   \n",
       "4                     0.00       May-16            67.79        Jun-16   \n",
       "\n",
       "   chargeoff_within_12_mths  \n",
       "0                       0.0  \n",
       "1                       0.0  \n",
       "2                       0.0  \n",
       "3                       0.0  \n",
       "4                       0.0  \n",
       "\n",
       "[5 rows x 36 columns]"
      ]
     },
     "execution_count": 17,
     "metadata": {},
     "output_type": "execute_result"
    }
   ],
   "source": [
    "loan_data.head()"
   ]
  },
  {
   "cell_type": "code",
   "execution_count": 18,
   "id": "d93de9b8",
   "metadata": {},
   "outputs": [
    {
     "data": {
      "text/plain": [
       "(39717, 36)"
      ]
     },
     "execution_count": 18,
     "metadata": {},
     "output_type": "execute_result"
    }
   ],
   "source": [
    "loan_data.shape"
   ]
  },
  {
   "cell_type": "code",
   "execution_count": 19,
   "id": "20c662d7",
   "metadata": {},
   "outputs": [
    {
     "data": {
      "text/plain": [
       "Index(['loan_amnt', 'funded_amnt_inv', 'term', 'int_rate', 'installment',\n",
       "       'grade', 'sub_grade', 'emp_length', 'home_ownership', 'annual_inc',\n",
       "       'verification_status', 'issue_d', 'loan_status', 'purpose', 'dti',\n",
       "       'delinq_2yrs', 'earliest_cr_line', 'inq_last_6mths',\n",
       "       'mths_since_last_delinq', 'mths_since_last_record', 'open_acc',\n",
       "       'pub_rec', 'revol_bal', 'revol_util', 'total_acc', 'out_prncp',\n",
       "       'total_pymnt', 'total_rec_prncp', 'total_rec_int', 'total_rec_late_fee',\n",
       "       'recoveries', 'collection_recovery_fee', 'last_pymnt_d',\n",
       "       'last_pymnt_amnt', 'next_pymnt_d', 'chargeoff_within_12_mths'],\n",
       "      dtype='object')"
      ]
     },
     "execution_count": 19,
     "metadata": {},
     "output_type": "execute_result"
    }
   ],
   "source": [
    "loan_data.columns"
   ]
  },
  {
   "cell_type": "markdown",
   "id": "13b6150c",
   "metadata": {},
   "source": [
    "remove the record of the current loan status (we cannot do anything with the current loan status)"
   ]
  },
  {
   "cell_type": "code",
   "execution_count": 20,
   "id": "9455edb1",
   "metadata": {},
   "outputs": [
    {
     "data": {
      "text/plain": [
       "array(['Fully Paid', 'Charged Off'], dtype=object)"
      ]
     },
     "execution_count": 20,
     "metadata": {},
     "output_type": "execute_result"
    }
   ],
   "source": [
    "loan_data = loan_data[loan_data.loan_status != \"Current\"]\n",
    "loan_data.loan_status.unique()"
   ]
  },
  {
   "cell_type": "markdown",
   "id": "a4ff8cb6",
   "metadata": {},
   "source": [
    "check for any missing value"
   ]
  },
  {
   "cell_type": "code",
   "execution_count": 21,
   "id": "298c3a08",
   "metadata": {},
   "outputs": [
    {
     "data": {
      "text/plain": [
       "loan_amnt                     0.000000\n",
       "funded_amnt_inv               0.000000\n",
       "term                          0.000000\n",
       "int_rate                      0.000000\n",
       "installment                   0.000000\n",
       "grade                         0.000000\n",
       "sub_grade                     0.000000\n",
       "emp_length                    2.677761\n",
       "home_ownership                0.000000\n",
       "annual_inc                    0.000000\n",
       "verification_status           0.000000\n",
       "issue_d                       0.000000\n",
       "loan_status                   0.000000\n",
       "purpose                       0.000000\n",
       "dti                           0.000000\n",
       "delinq_2yrs                   0.000000\n",
       "earliest_cr_line              0.000000\n",
       "inq_last_6mths                0.000000\n",
       "mths_since_last_delinq       64.559193\n",
       "mths_since_last_record       92.897322\n",
       "open_acc                      0.000000\n",
       "pub_rec                       0.000000\n",
       "revol_bal                     0.000000\n",
       "revol_util                    0.129611\n",
       "total_acc                     0.000000\n",
       "out_prncp                     0.000000\n",
       "total_pymnt                   0.000000\n",
       "total_rec_prncp               0.000000\n",
       "total_rec_int                 0.000000\n",
       "total_rec_late_fee            0.000000\n",
       "recoveries                    0.000000\n",
       "collection_recovery_fee       0.000000\n",
       "last_pymnt_d                  0.184047\n",
       "last_pymnt_amnt               0.000000\n",
       "next_pymnt_d                100.000000\n",
       "chargeoff_within_12_mths      0.145164\n",
       "dtype: float64"
      ]
     },
     "execution_count": 21,
     "metadata": {},
     "output_type": "execute_result"
    }
   ],
   "source": [
    "(loan_data.isna().sum()/len(loan_data.index))*100"
   ]
  },
  {
   "cell_type": "code",
   "execution_count": 22,
   "id": "c01a65d4",
   "metadata": {},
   "outputs": [
    {
     "name": "stdout",
     "output_type": "stream",
     "text": [
      "<class 'pandas.core.frame.DataFrame'>\n",
      "Int64Index: 38577 entries, 0 to 39716\n",
      "Data columns (total 36 columns):\n",
      " #   Column                    Non-Null Count  Dtype  \n",
      "---  ------                    --------------  -----  \n",
      " 0   loan_amnt                 38577 non-null  int64  \n",
      " 1   funded_amnt_inv           38577 non-null  float64\n",
      " 2   term                      38577 non-null  object \n",
      " 3   int_rate                  38577 non-null  object \n",
      " 4   installment               38577 non-null  float64\n",
      " 5   grade                     38577 non-null  object \n",
      " 6   sub_grade                 38577 non-null  object \n",
      " 7   emp_length                37544 non-null  object \n",
      " 8   home_ownership            38577 non-null  object \n",
      " 9   annual_inc                38577 non-null  float64\n",
      " 10  verification_status       38577 non-null  object \n",
      " 11  issue_d                   38577 non-null  object \n",
      " 12  loan_status               38577 non-null  object \n",
      " 13  purpose                   38577 non-null  object \n",
      " 14  dti                       38577 non-null  float64\n",
      " 15  delinq_2yrs               38577 non-null  int64  \n",
      " 16  earliest_cr_line          38577 non-null  object \n",
      " 17  inq_last_6mths            38577 non-null  int64  \n",
      " 18  mths_since_last_delinq    13672 non-null  float64\n",
      " 19  mths_since_last_record    2740 non-null   float64\n",
      " 20  open_acc                  38577 non-null  int64  \n",
      " 21  pub_rec                   38577 non-null  int64  \n",
      " 22  revol_bal                 38577 non-null  int64  \n",
      " 23  revol_util                38527 non-null  object \n",
      " 24  total_acc                 38577 non-null  int64  \n",
      " 25  out_prncp                 38577 non-null  float64\n",
      " 26  total_pymnt               38577 non-null  float64\n",
      " 27  total_rec_prncp           38577 non-null  float64\n",
      " 28  total_rec_int             38577 non-null  float64\n",
      " 29  total_rec_late_fee        38577 non-null  float64\n",
      " 30  recoveries                38577 non-null  float64\n",
      " 31  collection_recovery_fee   38577 non-null  float64\n",
      " 32  last_pymnt_d              38506 non-null  object \n",
      " 33  last_pymnt_amnt           38577 non-null  float64\n",
      " 34  next_pymnt_d              0 non-null      object \n",
      " 35  chargeoff_within_12_mths  38521 non-null  float64\n",
      "dtypes: float64(15), int64(7), object(14)\n",
      "memory usage: 10.9+ MB\n"
     ]
    }
   ],
   "source": [
    "loan_data.info()"
   ]
  },
  {
   "cell_type": "code",
   "execution_count": 23,
   "id": "d5f8382d",
   "metadata": {},
   "outputs": [
    {
     "name": "stdout",
     "output_type": "stream",
     "text": [
      "Mode : 10+ years\n"
     ]
    },
    {
     "data": {
      "text/plain": [
       "10+ years    8488\n",
       "< 1 year     4508\n",
       "2 years      4291\n",
       "3 years      4012\n",
       "4 years      3342\n",
       "5 years      3194\n",
       "1 year       3169\n",
       "6 years      2168\n",
       "7 years      1711\n",
       "8 years      1435\n",
       "9 years      1226\n",
       "Name: emp_length, dtype: int64"
      ]
     },
     "execution_count": 23,
     "metadata": {},
     "output_type": "execute_result"
    }
   ],
   "source": [
    "print(\"Mode : \" + loan_data.emp_length.mode()[0])\n",
    "loan_data.emp_length.value_counts()"
   ]
  },
  {
   "cell_type": "markdown",
   "id": "99b20780",
   "metadata": {},
   "source": [
    "the above value counts shows that the predeccesor has more frequency than the successor value"
   ]
  },
  {
   "cell_type": "code",
   "execution_count": 24,
   "id": "13bbc377",
   "metadata": {},
   "outputs": [
    {
     "data": {
      "text/plain": [
       "0"
      ]
     },
     "execution_count": 24,
     "metadata": {},
     "output_type": "execute_result"
    }
   ],
   "source": [
    "loan_data.emp_length.fillna(loan_data.emp_length.mode()[0], inplace = True)\n",
    "loan_data.emp_length.isna().sum()"
   ]
  },
  {
   "cell_type": "code",
   "execution_count": 25,
   "id": "c83ac6c7",
   "metadata": {},
   "outputs": [
    {
     "data": {
      "text/plain": [
       "0"
      ]
     },
     "execution_count": 25,
     "metadata": {},
     "output_type": "execute_result"
    }
   ],
   "source": [
    "loan_data.dropna(axis = 0, subset = ['revol_util'] , inplace = True)\n",
    "loan_data.revol_util.isna().sum()"
   ]
  },
  {
   "cell_type": "markdown",
   "id": "fb353216",
   "metadata": {},
   "source": [
    "data standardizing"
   ]
  },
  {
   "cell_type": "code",
   "execution_count": 26,
   "id": "0ac75509",
   "metadata": {},
   "outputs": [],
   "source": [
    "loan_data.revol_util = pd.to_numeric(loan_data.revol_util.apply(lambda x : x.split('%')[0]))"
   ]
  },
  {
   "cell_type": "code",
   "execution_count": 27,
   "id": "87e5f2a8",
   "metadata": {},
   "outputs": [],
   "source": [
    "loan_data.int_rate = pd.to_numeric(loan_data.int_rate.apply(lambda x : x.split('%')[0]))"
   ]
  },
  {
   "cell_type": "code",
   "execution_count": 30,
   "id": "4c63bc58",
   "metadata": {},
   "outputs": [],
   "source": [
    "loan_data.emp_length = pd.to_numeric(loan_data.emp_length.apply(lambda x: 0 if \"<\" in x else (x.split('+')[0] if \"+\" in x else x.split()[0])))"
   ]
  },
  {
   "cell_type": "code",
   "execution_count": 31,
   "id": "57e8f9bc",
   "metadata": {},
   "outputs": [
    {
     "data": {
      "text/html": [
       "<div>\n",
       "<style scoped>\n",
       "    .dataframe tbody tr th:only-of-type {\n",
       "        vertical-align: middle;\n",
       "    }\n",
       "\n",
       "    .dataframe tbody tr th {\n",
       "        vertical-align: top;\n",
       "    }\n",
       "\n",
       "    .dataframe thead th {\n",
       "        text-align: right;\n",
       "    }\n",
       "</style>\n",
       "<table border=\"1\" class=\"dataframe\">\n",
       "  <thead>\n",
       "    <tr style=\"text-align: right;\">\n",
       "      <th></th>\n",
       "      <th>loan_amnt</th>\n",
       "      <th>funded_amnt_inv</th>\n",
       "      <th>term</th>\n",
       "      <th>int_rate</th>\n",
       "      <th>installment</th>\n",
       "      <th>grade</th>\n",
       "      <th>sub_grade</th>\n",
       "      <th>emp_length</th>\n",
       "      <th>home_ownership</th>\n",
       "      <th>annual_inc</th>\n",
       "      <th>...</th>\n",
       "      <th>total_pymnt</th>\n",
       "      <th>total_rec_prncp</th>\n",
       "      <th>total_rec_int</th>\n",
       "      <th>total_rec_late_fee</th>\n",
       "      <th>recoveries</th>\n",
       "      <th>collection_recovery_fee</th>\n",
       "      <th>last_pymnt_d</th>\n",
       "      <th>last_pymnt_amnt</th>\n",
       "      <th>next_pymnt_d</th>\n",
       "      <th>chargeoff_within_12_mths</th>\n",
       "    </tr>\n",
       "  </thead>\n",
       "  <tbody>\n",
       "    <tr>\n",
       "      <th>0</th>\n",
       "      <td>5000</td>\n",
       "      <td>4975.0</td>\n",
       "      <td>36 months</td>\n",
       "      <td>10.65</td>\n",
       "      <td>162.87</td>\n",
       "      <td>B</td>\n",
       "      <td>B2</td>\n",
       "      <td>10</td>\n",
       "      <td>RENT</td>\n",
       "      <td>24000.0</td>\n",
       "      <td>...</td>\n",
       "      <td>5863.155187</td>\n",
       "      <td>5000.00</td>\n",
       "      <td>863.16</td>\n",
       "      <td>0.00</td>\n",
       "      <td>0.00</td>\n",
       "      <td>0.00</td>\n",
       "      <td>Jan-15</td>\n",
       "      <td>171.62</td>\n",
       "      <td>NaN</td>\n",
       "      <td>0.0</td>\n",
       "    </tr>\n",
       "    <tr>\n",
       "      <th>1</th>\n",
       "      <td>2500</td>\n",
       "      <td>2500.0</td>\n",
       "      <td>60 months</td>\n",
       "      <td>15.27</td>\n",
       "      <td>59.83</td>\n",
       "      <td>C</td>\n",
       "      <td>C4</td>\n",
       "      <td>0</td>\n",
       "      <td>RENT</td>\n",
       "      <td>30000.0</td>\n",
       "      <td>...</td>\n",
       "      <td>1008.710000</td>\n",
       "      <td>456.46</td>\n",
       "      <td>435.17</td>\n",
       "      <td>0.00</td>\n",
       "      <td>117.08</td>\n",
       "      <td>1.11</td>\n",
       "      <td>Apr-13</td>\n",
       "      <td>119.66</td>\n",
       "      <td>NaN</td>\n",
       "      <td>0.0</td>\n",
       "    </tr>\n",
       "    <tr>\n",
       "      <th>2</th>\n",
       "      <td>2400</td>\n",
       "      <td>2400.0</td>\n",
       "      <td>36 months</td>\n",
       "      <td>15.96</td>\n",
       "      <td>84.33</td>\n",
       "      <td>C</td>\n",
       "      <td>C5</td>\n",
       "      <td>10</td>\n",
       "      <td>RENT</td>\n",
       "      <td>12252.0</td>\n",
       "      <td>...</td>\n",
       "      <td>3005.666844</td>\n",
       "      <td>2400.00</td>\n",
       "      <td>605.67</td>\n",
       "      <td>0.00</td>\n",
       "      <td>0.00</td>\n",
       "      <td>0.00</td>\n",
       "      <td>Jun-14</td>\n",
       "      <td>649.91</td>\n",
       "      <td>NaN</td>\n",
       "      <td>0.0</td>\n",
       "    </tr>\n",
       "    <tr>\n",
       "      <th>3</th>\n",
       "      <td>10000</td>\n",
       "      <td>10000.0</td>\n",
       "      <td>36 months</td>\n",
       "      <td>13.49</td>\n",
       "      <td>339.31</td>\n",
       "      <td>C</td>\n",
       "      <td>C1</td>\n",
       "      <td>10</td>\n",
       "      <td>RENT</td>\n",
       "      <td>49200.0</td>\n",
       "      <td>...</td>\n",
       "      <td>12231.890000</td>\n",
       "      <td>10000.00</td>\n",
       "      <td>2214.92</td>\n",
       "      <td>16.97</td>\n",
       "      <td>0.00</td>\n",
       "      <td>0.00</td>\n",
       "      <td>Jan-15</td>\n",
       "      <td>357.48</td>\n",
       "      <td>NaN</td>\n",
       "      <td>0.0</td>\n",
       "    </tr>\n",
       "    <tr>\n",
       "      <th>5</th>\n",
       "      <td>5000</td>\n",
       "      <td>5000.0</td>\n",
       "      <td>36 months</td>\n",
       "      <td>7.90</td>\n",
       "      <td>156.46</td>\n",
       "      <td>A</td>\n",
       "      <td>A4</td>\n",
       "      <td>3</td>\n",
       "      <td>RENT</td>\n",
       "      <td>36000.0</td>\n",
       "      <td>...</td>\n",
       "      <td>5632.210000</td>\n",
       "      <td>5000.00</td>\n",
       "      <td>632.21</td>\n",
       "      <td>0.00</td>\n",
       "      <td>0.00</td>\n",
       "      <td>0.00</td>\n",
       "      <td>Jan-15</td>\n",
       "      <td>161.03</td>\n",
       "      <td>NaN</td>\n",
       "      <td>0.0</td>\n",
       "    </tr>\n",
       "  </tbody>\n",
       "</table>\n",
       "<p>5 rows × 36 columns</p>\n",
       "</div>"
      ],
      "text/plain": [
       "   loan_amnt  funded_amnt_inv        term  int_rate  installment grade  \\\n",
       "0       5000           4975.0   36 months     10.65       162.87     B   \n",
       "1       2500           2500.0   60 months     15.27        59.83     C   \n",
       "2       2400           2400.0   36 months     15.96        84.33     C   \n",
       "3      10000          10000.0   36 months     13.49       339.31     C   \n",
       "5       5000           5000.0   36 months      7.90       156.46     A   \n",
       "\n",
       "  sub_grade  emp_length home_ownership  annual_inc  ...   total_pymnt  \\\n",
       "0        B2          10           RENT     24000.0  ...   5863.155187   \n",
       "1        C4           0           RENT     30000.0  ...   1008.710000   \n",
       "2        C5          10           RENT     12252.0  ...   3005.666844   \n",
       "3        C1          10           RENT     49200.0  ...  12231.890000   \n",
       "5        A4           3           RENT     36000.0  ...   5632.210000   \n",
       "\n",
       "  total_rec_prncp total_rec_int total_rec_late_fee  recoveries  \\\n",
       "0         5000.00        863.16               0.00        0.00   \n",
       "1          456.46        435.17               0.00      117.08   \n",
       "2         2400.00        605.67               0.00        0.00   \n",
       "3        10000.00       2214.92              16.97        0.00   \n",
       "5         5000.00        632.21               0.00        0.00   \n",
       "\n",
       "   collection_recovery_fee last_pymnt_d  last_pymnt_amnt  next_pymnt_d  \\\n",
       "0                     0.00       Jan-15           171.62           NaN   \n",
       "1                     1.11       Apr-13           119.66           NaN   \n",
       "2                     0.00       Jun-14           649.91           NaN   \n",
       "3                     0.00       Jan-15           357.48           NaN   \n",
       "5                     0.00       Jan-15           161.03           NaN   \n",
       "\n",
       "   chargeoff_within_12_mths  \n",
       "0                       0.0  \n",
       "1                       0.0  \n",
       "2                       0.0  \n",
       "3                       0.0  \n",
       "5                       0.0  \n",
       "\n",
       "[5 rows x 36 columns]"
      ]
     },
     "execution_count": 31,
     "metadata": {},
     "output_type": "execute_result"
    }
   ],
   "source": [
    "loan_data.head()"
   ]
  },
  {
   "cell_type": "code",
   "execution_count": 32,
   "id": "53c1baa3",
   "metadata": {},
   "outputs": [
    {
     "data": {
      "text/plain": [
       "Index(['loan_amnt', 'funded_amnt_inv', 'term', 'int_rate', 'installment',\n",
       "       'grade', 'sub_grade', 'emp_length', 'home_ownership', 'annual_inc',\n",
       "       'verification_status', 'issue_d', 'loan_status', 'purpose', 'dti',\n",
       "       'delinq_2yrs', 'earliest_cr_line', 'inq_last_6mths',\n",
       "       'mths_since_last_delinq', 'mths_since_last_record', 'open_acc',\n",
       "       'pub_rec', 'revol_bal', 'revol_util', 'total_acc', 'out_prncp',\n",
       "       'total_pymnt', 'total_rec_prncp', 'total_rec_int', 'total_rec_late_fee',\n",
       "       'recoveries', 'collection_recovery_fee', 'last_pymnt_d',\n",
       "       'last_pymnt_amnt', 'next_pymnt_d', 'chargeoff_within_12_mths'],\n",
       "      dtype='object')"
      ]
     },
     "execution_count": 32,
     "metadata": {},
     "output_type": "execute_result"
    }
   ],
   "source": [
    "loan_data.columns"
   ]
  },
  {
   "cell_type": "code",
   "execution_count": 35,
   "id": "cf0d7722",
   "metadata": {},
   "outputs": [
    {
     "data": {
      "text/html": [
       "<div>\n",
       "<style scoped>\n",
       "    .dataframe tbody tr th:only-of-type {\n",
       "        vertical-align: middle;\n",
       "    }\n",
       "\n",
       "    .dataframe tbody tr th {\n",
       "        vertical-align: top;\n",
       "    }\n",
       "\n",
       "    .dataframe thead th {\n",
       "        text-align: right;\n",
       "    }\n",
       "</style>\n",
       "<table border=\"1\" class=\"dataframe\">\n",
       "  <thead>\n",
       "    <tr style=\"text-align: right;\">\n",
       "      <th></th>\n",
       "      <th>loan_amnt</th>\n",
       "      <th>term</th>\n",
       "      <th>int_rate</th>\n",
       "      <th>installment</th>\n",
       "      <th>grade</th>\n",
       "      <th>sub_grade</th>\n",
       "      <th>emp_length</th>\n",
       "      <th>home_ownership</th>\n",
       "      <th>annual_inc</th>\n",
       "      <th>issue_d</th>\n",
       "      <th>loan_status</th>\n",
       "      <th>purpose</th>\n",
       "      <th>dti</th>\n",
       "      <th>earliest_cr_line</th>\n",
       "      <th>inq_last_6mths</th>\n",
       "      <th>open_acc</th>\n",
       "      <th>pub_rec</th>\n",
       "      <th>revol_util</th>\n",
       "    </tr>\n",
       "  </thead>\n",
       "  <tbody>\n",
       "    <tr>\n",
       "      <th>0</th>\n",
       "      <td>5000</td>\n",
       "      <td>36 months</td>\n",
       "      <td>10.65</td>\n",
       "      <td>162.87</td>\n",
       "      <td>B</td>\n",
       "      <td>B2</td>\n",
       "      <td>10</td>\n",
       "      <td>RENT</td>\n",
       "      <td>24000.0</td>\n",
       "      <td>Dec-11</td>\n",
       "      <td>Fully Paid</td>\n",
       "      <td>credit_card</td>\n",
       "      <td>27.65</td>\n",
       "      <td>Jan-85</td>\n",
       "      <td>1</td>\n",
       "      <td>3</td>\n",
       "      <td>0</td>\n",
       "      <td>83.7</td>\n",
       "    </tr>\n",
       "    <tr>\n",
       "      <th>1</th>\n",
       "      <td>2500</td>\n",
       "      <td>60 months</td>\n",
       "      <td>15.27</td>\n",
       "      <td>59.83</td>\n",
       "      <td>C</td>\n",
       "      <td>C4</td>\n",
       "      <td>0</td>\n",
       "      <td>RENT</td>\n",
       "      <td>30000.0</td>\n",
       "      <td>Dec-11</td>\n",
       "      <td>Charged Off</td>\n",
       "      <td>car</td>\n",
       "      <td>1.00</td>\n",
       "      <td>Apr-99</td>\n",
       "      <td>5</td>\n",
       "      <td>3</td>\n",
       "      <td>0</td>\n",
       "      <td>9.4</td>\n",
       "    </tr>\n",
       "    <tr>\n",
       "      <th>2</th>\n",
       "      <td>2400</td>\n",
       "      <td>36 months</td>\n",
       "      <td>15.96</td>\n",
       "      <td>84.33</td>\n",
       "      <td>C</td>\n",
       "      <td>C5</td>\n",
       "      <td>10</td>\n",
       "      <td>RENT</td>\n",
       "      <td>12252.0</td>\n",
       "      <td>Dec-11</td>\n",
       "      <td>Fully Paid</td>\n",
       "      <td>small_business</td>\n",
       "      <td>8.72</td>\n",
       "      <td>Nov-01</td>\n",
       "      <td>2</td>\n",
       "      <td>2</td>\n",
       "      <td>0</td>\n",
       "      <td>98.5</td>\n",
       "    </tr>\n",
       "    <tr>\n",
       "      <th>3</th>\n",
       "      <td>10000</td>\n",
       "      <td>36 months</td>\n",
       "      <td>13.49</td>\n",
       "      <td>339.31</td>\n",
       "      <td>C</td>\n",
       "      <td>C1</td>\n",
       "      <td>10</td>\n",
       "      <td>RENT</td>\n",
       "      <td>49200.0</td>\n",
       "      <td>Dec-11</td>\n",
       "      <td>Fully Paid</td>\n",
       "      <td>other</td>\n",
       "      <td>20.00</td>\n",
       "      <td>Feb-96</td>\n",
       "      <td>1</td>\n",
       "      <td>10</td>\n",
       "      <td>0</td>\n",
       "      <td>21.0</td>\n",
       "    </tr>\n",
       "    <tr>\n",
       "      <th>5</th>\n",
       "      <td>5000</td>\n",
       "      <td>36 months</td>\n",
       "      <td>7.90</td>\n",
       "      <td>156.46</td>\n",
       "      <td>A</td>\n",
       "      <td>A4</td>\n",
       "      <td>3</td>\n",
       "      <td>RENT</td>\n",
       "      <td>36000.0</td>\n",
       "      <td>Dec-11</td>\n",
       "      <td>Fully Paid</td>\n",
       "      <td>wedding</td>\n",
       "      <td>11.20</td>\n",
       "      <td>Nov-04</td>\n",
       "      <td>3</td>\n",
       "      <td>9</td>\n",
       "      <td>0</td>\n",
       "      <td>28.3</td>\n",
       "    </tr>\n",
       "    <tr>\n",
       "      <th>...</th>\n",
       "      <td>...</td>\n",
       "      <td>...</td>\n",
       "      <td>...</td>\n",
       "      <td>...</td>\n",
       "      <td>...</td>\n",
       "      <td>...</td>\n",
       "      <td>...</td>\n",
       "      <td>...</td>\n",
       "      <td>...</td>\n",
       "      <td>...</td>\n",
       "      <td>...</td>\n",
       "      <td>...</td>\n",
       "      <td>...</td>\n",
       "      <td>...</td>\n",
       "      <td>...</td>\n",
       "      <td>...</td>\n",
       "      <td>...</td>\n",
       "      <td>...</td>\n",
       "    </tr>\n",
       "    <tr>\n",
       "      <th>39712</th>\n",
       "      <td>2500</td>\n",
       "      <td>36 months</td>\n",
       "      <td>8.07</td>\n",
       "      <td>78.42</td>\n",
       "      <td>A</td>\n",
       "      <td>A4</td>\n",
       "      <td>4</td>\n",
       "      <td>MORTGAGE</td>\n",
       "      <td>110000.0</td>\n",
       "      <td>Jul-07</td>\n",
       "      <td>Fully Paid</td>\n",
       "      <td>home_improvement</td>\n",
       "      <td>11.33</td>\n",
       "      <td>Nov-90</td>\n",
       "      <td>0</td>\n",
       "      <td>13</td>\n",
       "      <td>0</td>\n",
       "      <td>13.1</td>\n",
       "    </tr>\n",
       "    <tr>\n",
       "      <th>39713</th>\n",
       "      <td>8500</td>\n",
       "      <td>36 months</td>\n",
       "      <td>10.28</td>\n",
       "      <td>275.38</td>\n",
       "      <td>C</td>\n",
       "      <td>C1</td>\n",
       "      <td>3</td>\n",
       "      <td>RENT</td>\n",
       "      <td>18000.0</td>\n",
       "      <td>Jul-07</td>\n",
       "      <td>Fully Paid</td>\n",
       "      <td>credit_card</td>\n",
       "      <td>6.40</td>\n",
       "      <td>Dec-86</td>\n",
       "      <td>1</td>\n",
       "      <td>6</td>\n",
       "      <td>0</td>\n",
       "      <td>26.9</td>\n",
       "    </tr>\n",
       "    <tr>\n",
       "      <th>39714</th>\n",
       "      <td>5000</td>\n",
       "      <td>36 months</td>\n",
       "      <td>8.07</td>\n",
       "      <td>156.84</td>\n",
       "      <td>A</td>\n",
       "      <td>A4</td>\n",
       "      <td>0</td>\n",
       "      <td>MORTGAGE</td>\n",
       "      <td>100000.0</td>\n",
       "      <td>Jul-07</td>\n",
       "      <td>Fully Paid</td>\n",
       "      <td>debt_consolidation</td>\n",
       "      <td>2.30</td>\n",
       "      <td>Oct-98</td>\n",
       "      <td>0</td>\n",
       "      <td>11</td>\n",
       "      <td>0</td>\n",
       "      <td>19.4</td>\n",
       "    </tr>\n",
       "    <tr>\n",
       "      <th>39715</th>\n",
       "      <td>5000</td>\n",
       "      <td>36 months</td>\n",
       "      <td>7.43</td>\n",
       "      <td>155.38</td>\n",
       "      <td>A</td>\n",
       "      <td>A2</td>\n",
       "      <td>0</td>\n",
       "      <td>MORTGAGE</td>\n",
       "      <td>200000.0</td>\n",
       "      <td>Jul-07</td>\n",
       "      <td>Fully Paid</td>\n",
       "      <td>other</td>\n",
       "      <td>3.72</td>\n",
       "      <td>Nov-88</td>\n",
       "      <td>0</td>\n",
       "      <td>17</td>\n",
       "      <td>0</td>\n",
       "      <td>0.7</td>\n",
       "    </tr>\n",
       "    <tr>\n",
       "      <th>39716</th>\n",
       "      <td>7500</td>\n",
       "      <td>36 months</td>\n",
       "      <td>13.75</td>\n",
       "      <td>255.43</td>\n",
       "      <td>E</td>\n",
       "      <td>E2</td>\n",
       "      <td>0</td>\n",
       "      <td>OWN</td>\n",
       "      <td>22000.0</td>\n",
       "      <td>Jun-07</td>\n",
       "      <td>Fully Paid</td>\n",
       "      <td>debt_consolidation</td>\n",
       "      <td>14.29</td>\n",
       "      <td>Oct-03</td>\n",
       "      <td>0</td>\n",
       "      <td>7</td>\n",
       "      <td>0</td>\n",
       "      <td>51.5</td>\n",
       "    </tr>\n",
       "  </tbody>\n",
       "</table>\n",
       "<p>38527 rows × 18 columns</p>\n",
       "</div>"
      ],
      "text/plain": [
       "       loan_amnt        term  int_rate  installment grade sub_grade  \\\n",
       "0           5000   36 months     10.65       162.87     B        B2   \n",
       "1           2500   60 months     15.27        59.83     C        C4   \n",
       "2           2400   36 months     15.96        84.33     C        C5   \n",
       "3          10000   36 months     13.49       339.31     C        C1   \n",
       "5           5000   36 months      7.90       156.46     A        A4   \n",
       "...          ...         ...       ...          ...   ...       ...   \n",
       "39712       2500   36 months      8.07        78.42     A        A4   \n",
       "39713       8500   36 months     10.28       275.38     C        C1   \n",
       "39714       5000   36 months      8.07       156.84     A        A4   \n",
       "39715       5000   36 months      7.43       155.38     A        A2   \n",
       "39716       7500   36 months     13.75       255.43     E        E2   \n",
       "\n",
       "       emp_length home_ownership  annual_inc issue_d  loan_status  \\\n",
       "0              10           RENT     24000.0  Dec-11   Fully Paid   \n",
       "1               0           RENT     30000.0  Dec-11  Charged Off   \n",
       "2              10           RENT     12252.0  Dec-11   Fully Paid   \n",
       "3              10           RENT     49200.0  Dec-11   Fully Paid   \n",
       "5               3           RENT     36000.0  Dec-11   Fully Paid   \n",
       "...           ...            ...         ...     ...          ...   \n",
       "39712           4       MORTGAGE    110000.0  Jul-07   Fully Paid   \n",
       "39713           3           RENT     18000.0  Jul-07   Fully Paid   \n",
       "39714           0       MORTGAGE    100000.0  Jul-07   Fully Paid   \n",
       "39715           0       MORTGAGE    200000.0  Jul-07   Fully Paid   \n",
       "39716           0            OWN     22000.0  Jun-07   Fully Paid   \n",
       "\n",
       "                  purpose    dti earliest_cr_line  inq_last_6mths  open_acc  \\\n",
       "0             credit_card  27.65           Jan-85               1         3   \n",
       "1                     car   1.00           Apr-99               5         3   \n",
       "2          small_business   8.72           Nov-01               2         2   \n",
       "3                   other  20.00           Feb-96               1        10   \n",
       "5                 wedding  11.20           Nov-04               3         9   \n",
       "...                   ...    ...              ...             ...       ...   \n",
       "39712    home_improvement  11.33           Nov-90               0        13   \n",
       "39713         credit_card   6.40           Dec-86               1         6   \n",
       "39714  debt_consolidation   2.30           Oct-98               0        11   \n",
       "39715               other   3.72           Nov-88               0        17   \n",
       "39716  debt_consolidation  14.29           Oct-03               0         7   \n",
       "\n",
       "       pub_rec  revol_util  \n",
       "0            0        83.7  \n",
       "1            0         9.4  \n",
       "2            0        98.5  \n",
       "3            0        21.0  \n",
       "5            0        28.3  \n",
       "...        ...         ...  \n",
       "39712        0        13.1  \n",
       "39713        0        26.9  \n",
       "39714        0        19.4  \n",
       "39715        0         0.7  \n",
       "39716        0        51.5  \n",
       "\n",
       "[38527 rows x 18 columns]"
      ]
     },
     "execution_count": 35,
     "metadata": {},
     "output_type": "execute_result"
    }
   ],
   "source": [
    "loan_data = loan_data.loc[:,('loan_amnt','term','int_rate','installment',\n",
    "       'grade', 'sub_grade','emp_length', 'home_ownership', 'annual_inc','issue_d', 'loan_status', 'purpose', 'dti','earliest_cr_line', 'inq_last_6mths','open_acc',\n",
    "       'pub_rec', 'revol_util')]\n",
    "loan_data"
   ]
  },
  {
   "cell_type": "markdown",
   "id": "ffdb0d43",
   "metadata": {},
   "source": [
    "outlier"
   ]
  },
  {
   "cell_type": "code",
   "execution_count": 36,
   "id": "ee4983f3",
   "metadata": {},
   "outputs": [
    {
     "data": {
      "text/plain": [
       "<AxesSubplot:xlabel='annual_inc'>"
      ]
     },
     "execution_count": 36,
     "metadata": {},
     "output_type": "execute_result"
    },
    {
     "data": {
      "image/png": "[encoded data removed]",
      "text/plain": [
       "<Figure size 640x480 with 1 Axes>"
      ]
     },
     "metadata": {},
     "output_type": "display_data"
    }
   ],
   "source": [
    "sns.boxplot(loan_data['annual_inc'])"
   ]
  },
  {
   "cell_type": "markdown",
   "id": "bc4431bc",
   "metadata": {},
   "source": [
    "indicating the presence of outliers:therefore removing them. removing outliers after 0.95"
   ]
  },
  {
   "cell_type": "code",
   "execution_count": 37,
   "id": "703cf55e",
   "metadata": {},
   "outputs": [
    {
     "data": {
      "text/plain": [
       "0.50     59000.0\n",
       "0.75     82000.0\n",
       "0.90    115000.0\n",
       "0.95    140004.0\n",
       "0.97    165000.0\n",
       "0.98    187000.0\n",
       "0.99    234000.0\n",
       "Name: annual_inc, dtype: float64"
      ]
     },
     "execution_count": 37,
     "metadata": {},
     "output_type": "execute_result"
    }
   ],
   "source": [
    "quantile_info = loan_data.annual_inc.quantile([0.5, 0.75,0.90, 0.95, 0.97,0.98, 0.99])\n",
    "quantile_info"
   ]
  },
  {
   "cell_type": "code",
   "execution_count": 38,
   "id": "68963320",
   "metadata": {},
   "outputs": [],
   "source": [
    "per_95_annual_inc = loan_data['annual_inc'].quantile(0.95)\n",
    "loan_data = loan_data[loan_data.annual_inc <= per_95_annual_inc]"
   ]
  },
  {
   "cell_type": "code",
   "execution_count": 39,
   "id": "a8d56906",
   "metadata": {},
   "outputs": [
    {
     "data": {
      "text/plain": [
       "<AxesSubplot:xlabel='annual_inc'>"
      ]
     },
     "execution_count": 39,
     "metadata": {},
     "output_type": "execute_result"
    },
    {
     "data": {
      "image/png": "[encoded data removed]",
      "text/plain": [
       "<Figure size 640x480 with 1 Axes>"
      ]
     },
     "metadata": {},
     "output_type": "display_data"
    }
   ],
   "source": [
    "sns.boxplot(loan_data.annual_inc)"
   ]
  },
  {
   "cell_type": "markdown",
   "id": "7690320e",
   "metadata": {},
   "source": [
    "\"annual_inc\" data looks good and proceeding next.\n",
    "analyse other numeric value which has outliers such as\n",
    "dti\n",
    "loan_amnt\n"
   ]
  },
  {
   "cell_type": "code",
   "execution_count": 40,
   "id": "0a7ceaf7",
   "metadata": {},
   "outputs": [
    {
     "data": {
      "text/plain": [
       "<AxesSubplot:xlabel='dti'>"
      ]
     },
     "execution_count": 40,
     "metadata": {},
     "output_type": "execute_result"
    },
    {
     "data": {
      "image/png": "[encoded data removed]",
      "text/plain": [
       "<Figure size 640x480 with 1 Axes>"
      ]
     },
     "metadata": {},
     "output_type": "display_data"
    }
   ],
   "source": [
    "sns.boxplot(loan_data.dti)"
   ]
  },
  {
   "cell_type": "code",
   "execution_count": 41,
   "id": "242e52dc",
   "metadata": {},
   "outputs": [
    {
     "data": {
      "text/plain": [
       "<AxesSubplot:xlabel='loan_amnt'>"
      ]
     },
     "execution_count": 41,
     "metadata": {},
     "output_type": "execute_result"
    },
    {
     "data": {
      "image/png": "[encoded data removed]",
      "text/plain": [
       "<Figure size 640x480 with 1 Axes>"
      ]
     },
     "metadata": {},
     "output_type": "display_data"
    }
   ],
   "source": [
    "sns.boxplot(loan_data.loan_amnt)"
   ]
  },
  {
   "cell_type": "code",
   "execution_count": 42,
   "id": "0d8ed548",
   "metadata": {},
   "outputs": [
    {
     "data": {
      "text/plain": [
       "0.750    15000.0\n",
       "0.900    20000.0\n",
       "0.950    25000.0\n",
       "0.970    25475.0\n",
       "0.975    28000.0\n",
       "0.980    30000.0\n",
       "0.990    35000.0\n",
       "1.000    35000.0\n",
       "Name: loan_amnt, dtype: float64"
      ]
     },
     "execution_count": 42,
     "metadata": {},
     "output_type": "execute_result"
    }
   ],
   "source": [
    "loan_data.loan_amnt.quantile([0.75,0.90,0.95,0.97,0.975, 0.98, 0.99, 1.0])"
   ]
  },
  {
   "cell_type": "markdown",
   "id": "f28eea54",
   "metadata": {},
   "source": [
    "Visualizing the data\n",
    "visualizing only the defaulter data. So subsetting the data while plotting only for 'Charged Off' loan_status for below plots"
   ]
  },
  {
   "cell_type": "code",
   "execution_count": 44,
   "id": "32da9e4f",
   "metadata": {},
   "outputs": [
    {
     "data": {
      "text/plain": [
       "<AxesSubplot:xlabel='loan_status', ylabel='count'>"
      ]
     },
     "execution_count": 44,
     "metadata": {},
     "output_type": "execute_result"
    },
    {
     "data": {
      "image/png": "[encoded data removed]",
      "text/plain": [
       "<Figure size 640x480 with 1 Axes>"
      ]
     },
     "metadata": {},
     "output_type": "display_data"
    }
   ],
   "source": [
    "sns.countplot(x = 'loan_status', data = loan_data)"
   ]
  },
  {
   "cell_type": "code",
   "execution_count": 45,
   "id": "4a042a46",
   "metadata": {},
   "outputs": [
    {
     "data": {
      "text/plain": [
       "0    2\n",
       "1    4\n",
       "2    5\n",
       "3    1\n",
       "5    4\n",
       "Name: sub_grade, dtype: int64"
      ]
     },
     "execution_count": 45,
     "metadata": {},
     "output_type": "execute_result"
    }
   ],
   "source": [
    "loan_data.sub_grade = pd.to_numeric(loan_data.sub_grade.apply(lambda x : x[-1]))\n",
    "loan_data.sub_grade.head()"
   ]
  },
  {
   "cell_type": "code",
   "execution_count": 46,
   "id": "0575962d",
   "metadata": {},
   "outputs": [
    {
     "data": {
      "text/plain": [
       "<AxesSubplot:xlabel='grade', ylabel='count'>"
      ]
     },
     "execution_count": 46,
     "metadata": {},
     "output_type": "execute_result"
    },
    {
     "data": {
      "image/png": "[encoded data removed]",
      "text/plain": [
       "<Figure size 1200x700 with 1 Axes>"
      ]
     },
     "metadata": {},
     "output_type": "display_data"
    }
   ],
   "source": [
    "fig, ax = plt.subplots(figsize=(12,7))\n",
    "sns.set_palette('colorblind')\n",
    "sns.countplot(x = 'grade', order = ['A', 'B', 'C', 'D', 'E', 'F', 'G'] , hue = 'sub_grade',data = loan_data[loan_data.loan_status == 'Charged Off'])"
   ]
  },
  {
   "cell_type": "code",
   "execution_count": 47,
   "id": "742a8929",
   "metadata": {},
   "outputs": [
    {
     "data": {
      "text/plain": [
       "<AxesSubplot:xlabel='grade', ylabel='count'>"
      ]
     },
     "execution_count": 47,
     "metadata": {},
     "output_type": "execute_result"
    },
    {
     "data": {
      "image/png": "[encoded data removed]",
      "text/plain": [
       "<Figure size 640x480 with 1 Axes>"
      ]
     },
     "metadata": {},
     "output_type": "display_data"
    }
   ],
   "source": [
    "sns.countplot(x = 'grade', data = loan_data[loan_data.loan_status == 'Charged Off'], order = ['A', 'B', 'C', 'D', 'E', 'F', 'G'])"
   ]
  },
  {
   "cell_type": "markdown",
   "id": "e75b37d9",
   "metadata": {},
   "source": [
    "Analyzing home ownership\n"
   ]
  },
  {
   "cell_type": "code",
   "execution_count": 48,
   "id": "f7055b09",
   "metadata": {},
   "outputs": [
    {
     "data": {
      "text/plain": [
       "array(['RENT', 'OWN', 'MORTGAGE', 'OTHER', 'NONE'], dtype=object)"
      ]
     },
     "execution_count": 48,
     "metadata": {},
     "output_type": "execute_result"
    }
   ],
   "source": [
    "#checking unique values for home_ownership\n",
    "loan_data['home_ownership'].unique()"
   ]
  },
  {
   "cell_type": "code",
   "execution_count": 49,
   "id": "e37c5313",
   "metadata": {},
   "outputs": [],
   "source": [
    "#replacing 'NONE' with 'OTHERS'\n",
    "loan_data['home_ownership'].replace(to_replace = ['NONE'],value='OTHER',inplace = True)"
   ]
  },
  {
   "cell_type": "code",
   "execution_count": 50,
   "id": "9e281e20",
   "metadata": {},
   "outputs": [
    {
     "data": {
      "text/plain": [
       "array(['RENT', 'OWN', 'MORTGAGE', 'OTHER'], dtype=object)"
      ]
     },
     "execution_count": 50,
     "metadata": {},
     "output_type": "execute_result"
    }
   ],
   "source": [
    "#checking unique values for home_ownership again\n",
    "loan_data['home_ownership'].unique()"
   ]
  },
  {
   "cell_type": "code",
   "execution_count": 51,
   "id": "5033b9a7",
   "metadata": {},
   "outputs": [
    {
     "data": {
      "text/plain": [
       "<AxesSubplot:xlabel='home_ownership', ylabel='count'>"
      ]
     },
     "execution_count": 51,
     "metadata": {},
     "output_type": "execute_result"
    },
    {
     "data": {
      "image/png": "[encoded data removed]",
      "text/plain": [
       "<Figure size 600x400 with 1 Axes>"
      ]
     },
     "metadata": {},
     "output_type": "display_data"
    }
   ],
   "source": [
    "fig, ax = plt.subplots(figsize = (6,4))\n",
    "ax.set(yscale = 'log')\n",
    "sns.countplot(x='home_ownership', data=loan_data[loan_data['loan_status']=='Charged Off'])"
   ]
  },
  {
   "cell_type": "code",
   "execution_count": 52,
   "id": "08908840",
   "metadata": {},
   "outputs": [
    {
     "data": {
      "text/plain": [
       "<AxesSubplot:xlabel='count', ylabel='purpose'>"
      ]
     },
     "execution_count": 52,
     "metadata": {},
     "output_type": "execute_result"
    },
    {
     "data": {
      "image/png": "[encoded data removed]",
      "text/plain": [
       "<Figure size 1200x800 with 1 Axes>"
      ]
     },
     "metadata": {},
     "output_type": "display_data"
    }
   ],
   "source": [
    "fig, ax = plt.subplots(figsize = (12,8))\n",
    "ax.set(xscale = 'log')\n",
    "sns.countplot(y ='purpose', data=loan_data[loan_data.loan_status == 'Charged Off'])"
   ]
  },
  {
   "cell_type": "code",
   "execution_count": 54,
   "id": "cc1a9d11",
   "metadata": {},
   "outputs": [],
   "source": [
    "#creating bins for int_rate,open_acc,revol_util,total_acc\n",
    "loan_data['int_rate_groups'] = pd.cut(loan_data['int_rate'], bins=5,precision =0,labels=['5%-9%','9%-13%','13%-17%','17%-21%','21%-24%'])\n",
    "loan_data['open_acc_groups'] = pd.cut(loan_data['open_acc'],bins = 5,precision =0,labels=['2-10','10-19','19-27','27-36','36-44'])\n",
    "loan_data['revol_util_groups'] = pd.cut(loan_data['revol_util'], bins=5,precision =0,labels=['0-20','20-40','40-60','60-80','80-100'])\n",
    "loan_data['annual_inc_groups'] = pd.cut(loan_data['annual_inc'], bins=5,precision =0,labels =['3k-31k','31k-58k','58k-85k','85k-112k','112k-140k'])"
   ]
  },
  {
   "cell_type": "code",
   "execution_count": 55,
   "id": "9c17df4f",
   "metadata": {},
   "outputs": [
    {
     "data": {
      "text/html": [
       "<div>\n",
       "<style scoped>\n",
       "    .dataframe tbody tr th:only-of-type {\n",
       "        vertical-align: middle;\n",
       "    }\n",
       "\n",
       "    .dataframe tbody tr th {\n",
       "        vertical-align: top;\n",
       "    }\n",
       "\n",
       "    .dataframe thead th {\n",
       "        text-align: right;\n",
       "    }\n",
       "</style>\n",
       "<table border=\"1\" class=\"dataframe\">\n",
       "  <thead>\n",
       "    <tr style=\"text-align: right;\">\n",
       "      <th></th>\n",
       "      <th>loan_amnt</th>\n",
       "      <th>term</th>\n",
       "      <th>int_rate</th>\n",
       "      <th>installment</th>\n",
       "      <th>grade</th>\n",
       "      <th>sub_grade</th>\n",
       "      <th>emp_length</th>\n",
       "      <th>home_ownership</th>\n",
       "      <th>annual_inc</th>\n",
       "      <th>issue_d</th>\n",
       "      <th>...</th>\n",
       "      <th>dti</th>\n",
       "      <th>earliest_cr_line</th>\n",
       "      <th>inq_last_6mths</th>\n",
       "      <th>open_acc</th>\n",
       "      <th>pub_rec</th>\n",
       "      <th>revol_util</th>\n",
       "      <th>int_rate_groups</th>\n",
       "      <th>open_acc_groups</th>\n",
       "      <th>revol_util_groups</th>\n",
       "      <th>annual_inc_groups</th>\n",
       "    </tr>\n",
       "  </thead>\n",
       "  <tbody>\n",
       "    <tr>\n",
       "      <th>0</th>\n",
       "      <td>5000</td>\n",
       "      <td>36 months</td>\n",
       "      <td>10.65</td>\n",
       "      <td>162.87</td>\n",
       "      <td>B</td>\n",
       "      <td>2</td>\n",
       "      <td>10</td>\n",
       "      <td>RENT</td>\n",
       "      <td>24000.0</td>\n",
       "      <td>Dec-11</td>\n",
       "      <td>...</td>\n",
       "      <td>27.65</td>\n",
       "      <td>Jan-85</td>\n",
       "      <td>1</td>\n",
       "      <td>3</td>\n",
       "      <td>0</td>\n",
       "      <td>83.7</td>\n",
       "      <td>9%-13%</td>\n",
       "      <td>2-10</td>\n",
       "      <td>80-100</td>\n",
       "      <td>3k-31k</td>\n",
       "    </tr>\n",
       "    <tr>\n",
       "      <th>1</th>\n",
       "      <td>2500</td>\n",
       "      <td>60 months</td>\n",
       "      <td>15.27</td>\n",
       "      <td>59.83</td>\n",
       "      <td>C</td>\n",
       "      <td>4</td>\n",
       "      <td>0</td>\n",
       "      <td>RENT</td>\n",
       "      <td>30000.0</td>\n",
       "      <td>Dec-11</td>\n",
       "      <td>...</td>\n",
       "      <td>1.00</td>\n",
       "      <td>Apr-99</td>\n",
       "      <td>5</td>\n",
       "      <td>3</td>\n",
       "      <td>0</td>\n",
       "      <td>9.4</td>\n",
       "      <td>13%-17%</td>\n",
       "      <td>2-10</td>\n",
       "      <td>0-20</td>\n",
       "      <td>3k-31k</td>\n",
       "    </tr>\n",
       "    <tr>\n",
       "      <th>2</th>\n",
       "      <td>2400</td>\n",
       "      <td>36 months</td>\n",
       "      <td>15.96</td>\n",
       "      <td>84.33</td>\n",
       "      <td>C</td>\n",
       "      <td>5</td>\n",
       "      <td>10</td>\n",
       "      <td>RENT</td>\n",
       "      <td>12252.0</td>\n",
       "      <td>Dec-11</td>\n",
       "      <td>...</td>\n",
       "      <td>8.72</td>\n",
       "      <td>Nov-01</td>\n",
       "      <td>2</td>\n",
       "      <td>2</td>\n",
       "      <td>0</td>\n",
       "      <td>98.5</td>\n",
       "      <td>13%-17%</td>\n",
       "      <td>2-10</td>\n",
       "      <td>80-100</td>\n",
       "      <td>3k-31k</td>\n",
       "    </tr>\n",
       "    <tr>\n",
       "      <th>3</th>\n",
       "      <td>10000</td>\n",
       "      <td>36 months</td>\n",
       "      <td>13.49</td>\n",
       "      <td>339.31</td>\n",
       "      <td>C</td>\n",
       "      <td>1</td>\n",
       "      <td>10</td>\n",
       "      <td>RENT</td>\n",
       "      <td>49200.0</td>\n",
       "      <td>Dec-11</td>\n",
       "      <td>...</td>\n",
       "      <td>20.00</td>\n",
       "      <td>Feb-96</td>\n",
       "      <td>1</td>\n",
       "      <td>10</td>\n",
       "      <td>0</td>\n",
       "      <td>21.0</td>\n",
       "      <td>13%-17%</td>\n",
       "      <td>2-10</td>\n",
       "      <td>20-40</td>\n",
       "      <td>31k-58k</td>\n",
       "    </tr>\n",
       "    <tr>\n",
       "      <th>5</th>\n",
       "      <td>5000</td>\n",
       "      <td>36 months</td>\n",
       "      <td>7.90</td>\n",
       "      <td>156.46</td>\n",
       "      <td>A</td>\n",
       "      <td>4</td>\n",
       "      <td>3</td>\n",
       "      <td>RENT</td>\n",
       "      <td>36000.0</td>\n",
       "      <td>Dec-11</td>\n",
       "      <td>...</td>\n",
       "      <td>11.20</td>\n",
       "      <td>Nov-04</td>\n",
       "      <td>3</td>\n",
       "      <td>9</td>\n",
       "      <td>0</td>\n",
       "      <td>28.3</td>\n",
       "      <td>5%-9%</td>\n",
       "      <td>2-10</td>\n",
       "      <td>20-40</td>\n",
       "      <td>31k-58k</td>\n",
       "    </tr>\n",
       "  </tbody>\n",
       "</table>\n",
       "<p>5 rows × 22 columns</p>\n",
       "</div>"
      ],
      "text/plain": [
       "   loan_amnt        term  int_rate  installment grade  sub_grade  emp_length  \\\n",
       "0       5000   36 months     10.65       162.87     B          2          10   \n",
       "1       2500   60 months     15.27        59.83     C          4           0   \n",
       "2       2400   36 months     15.96        84.33     C          5          10   \n",
       "3      10000   36 months     13.49       339.31     C          1          10   \n",
       "5       5000   36 months      7.90       156.46     A          4           3   \n",
       "\n",
       "  home_ownership  annual_inc issue_d  ...    dti earliest_cr_line  \\\n",
       "0           RENT     24000.0  Dec-11  ...  27.65           Jan-85   \n",
       "1           RENT     30000.0  Dec-11  ...   1.00           Apr-99   \n",
       "2           RENT     12252.0  Dec-11  ...   8.72           Nov-01   \n",
       "3           RENT     49200.0  Dec-11  ...  20.00           Feb-96   \n",
       "5           RENT     36000.0  Dec-11  ...  11.20           Nov-04   \n",
       "\n",
       "   inq_last_6mths open_acc  pub_rec  revol_util  int_rate_groups  \\\n",
       "0               1        3        0        83.7           9%-13%   \n",
       "1               5        3        0         9.4          13%-17%   \n",
       "2               2        2        0        98.5          13%-17%   \n",
       "3               1       10        0        21.0          13%-17%   \n",
       "5               3        9        0        28.3            5%-9%   \n",
       "\n",
       "   open_acc_groups revol_util_groups annual_inc_groups  \n",
       "0             2-10            80-100            3k-31k  \n",
       "1             2-10              0-20            3k-31k  \n",
       "2             2-10            80-100            3k-31k  \n",
       "3             2-10             20-40           31k-58k  \n",
       "5             2-10             20-40           31k-58k  \n",
       "\n",
       "[5 rows x 22 columns]"
      ]
     },
     "execution_count": 55,
     "metadata": {},
     "output_type": "execute_result"
    }
   ],
   "source": [
    "# Viewing new bins created\n",
    "loan_data.head()"
   ]
  },
  {
   "cell_type": "code",
   "execution_count": 56,
   "id": "1a79fee5",
   "metadata": {},
   "outputs": [
    {
     "data": {
      "text/plain": [
       "<AxesSubplot:xlabel='emp_length', ylabel='count'>"
      ]
     },
     "execution_count": 56,
     "metadata": {},
     "output_type": "execute_result"
    },
    {
     "data": {
      "image/png": "[encoded data removed]",
      "text/plain": [
       "<Figure size 1500x1000 with 2 Axes>"
      ]
     },
     "metadata": {},
     "output_type": "display_data"
    }
   ],
   "source": [
    "fig, ax = plt.subplots(figsize = (15,10))\n",
    "plt.subplot(221)\n",
    "sns.countplot(x='int_rate_groups', data=loan_data[loan_data.loan_status == 'Charged Off'])\n",
    "plt.xlabel('Interest Rate')\n",
    "plt.subplot(222)\n",
    "sns.countplot(x='emp_length', data=loan_data[loan_data.loan_status == 'Charged Off'])"
   ]
  },
  {
   "cell_type": "code",
   "execution_count": 57,
   "id": "ae210ea3",
   "metadata": {},
   "outputs": [
    {
     "data": {
      "text/plain": [
       "<AxesSubplot:xlabel='open_acc_groups', ylabel='count'>"
      ]
     },
     "execution_count": 57,
     "metadata": {},
     "output_type": "execute_result"
    },
    {
     "data": {
      "image/png": "[encoded data removed]",
      "text/plain": [
       "<Figure size 700x500 with 1 Axes>"
      ]
     },
     "metadata": {},
     "output_type": "display_data"
    }
   ],
   "source": [
    "fig, ax = plt.subplots(figsize = (7,5))\n",
    "ax.set_yscale('log')\n",
    "sns.countplot(x='open_acc_groups', data=loan_data[loan_data.loan_status == 'Charged Off'])"
   ]
  },
  {
   "cell_type": "code",
   "execution_count": 58,
   "id": "14a40550",
   "metadata": {},
   "outputs": [
    {
     "data": {
      "text/plain": [
       "<AxesSubplot:xlabel='revol_util_groups', ylabel='count'>"
      ]
     },
     "execution_count": 58,
     "metadata": {},
     "output_type": "execute_result"
    },
    {
     "data": {
      "image/png": "[encoded data removed]",
      "text/plain": [
       "<Figure size 640x480 with 1 Axes>"
      ]
     },
     "metadata": {},
     "output_type": "display_data"
    }
   ],
   "source": [
    "sns.countplot(x='revol_util_groups', data=loan_data[loan_data.loan_status == 'Charged Off'])"
   ]
  },
  {
   "cell_type": "code",
   "execution_count": 60,
   "id": "1888c7d8",
   "metadata": {},
   "outputs": [
    {
     "data": {
      "text/plain": [
       "<AxesSubplot:xlabel='annual_inc_groups', ylabel='count'>"
      ]
     },
     "execution_count": 60,
     "metadata": {},
     "output_type": "execute_result"
    },
    {
     "data": {
      "image/png": "[encoded data removed]",
      "text/plain": [
       "<Figure size 1000x600 with 1 Axes>"
      ]
     },
     "metadata": {},
     "output_type": "display_data"
    }
   ],
   "source": [
    "fig, ax = plt.subplots(figsize = (10,6))\n",
    "sns.countplot(x='annual_inc_groups', data=loan_data[loan_data.loan_status == 'Charged Off'])"
   ]
  },
  {
   "cell_type": "code",
   "execution_count": 61,
   "id": "bfd5b0a1",
   "metadata": {},
   "outputs": [
    {
     "data": {
      "text/plain": [
       "<AxesSubplot:xlabel='count', ylabel='term'>"
      ]
     },
     "execution_count": 61,
     "metadata": {},
     "output_type": "execute_result"
    },
    {
     "data": {
      "image/png": "[encoded data removed]",
      "text/plain": [
       "<Figure size 640x480 with 1 Axes>"
      ]
     },
     "metadata": {},
     "output_type": "display_data"
    }
   ],
   "source": [
    "sns.countplot(y='term', data=loan_data[loan_data['loan_status']=='Charged Off'])"
   ]
  },
  {
   "cell_type": "code",
   "execution_count": 63,
   "id": "32415d3e",
   "metadata": {},
   "outputs": [
    {
     "data": {
      "text/plain": [
       "<AxesSubplot:xlabel='inq_last_6mths', ylabel='count'>"
      ]
     },
     "execution_count": 63,
     "metadata": {},
     "output_type": "execute_result"
    },
    {
     "data": {
      "image/png": "[encoded data removed]",
      "text/plain": [
       "<Figure size 1000x800 with 1 Axes>"
      ]
     },
     "metadata": {},
     "output_type": "display_data"
    }
   ],
   "source": [
    "fig,ax = plt.subplots(figsize = (10,8))\n",
    "ax.set_yscale('log')\n",
    "sns.countplot(x='inq_last_6mths', data=loan_data[loan_data['loan_status']=='Charged Off'])"
   ]
  },
  {
   "cell_type": "code",
   "execution_count": 64,
   "id": "2fb56328",
   "metadata": {},
   "outputs": [
    {
     "data": {
      "text/plain": [
       "<AxesSubplot:xlabel='pub_rec', ylabel='count'>"
      ]
     },
     "execution_count": 64,
     "metadata": {},
     "output_type": "execute_result"
    },
    {
     "data": {
      "image/png": "[encoded data removed]",
      "text/plain": [
       "<Figure size 700x500 with 1 Axes>"
      ]
     },
     "metadata": {},
     "output_type": "display_data"
    }
   ],
   "source": [
    "fig,ax = plt.subplots(figsize = (7,5))\n",
    "ax.set_yscale('log')\n",
    "sns.countplot(x='pub_rec', data=loan_data[loan_data['loan_status']=='Charged Off'])"
   ]
  },
  {
   "cell_type": "code",
   "execution_count": 65,
   "id": "200101f1",
   "metadata": {},
   "outputs": [],
   "source": [
    "## Extracting month and year\n",
    "df_month_year = loan_data['issue_d'].str.partition(\"-\", True)     \n",
    "loan_data['issue_month']=df_month_year[0]                       \n",
    "loan_data['issue_year']='20' + df_month_year[2]"
   ]
  },
  {
   "cell_type": "code",
   "execution_count": 66,
   "id": "299910ea",
   "metadata": {},
   "outputs": [
    {
     "data": {
      "text/html": [
       "<div>\n",
       "<style scoped>\n",
       "    .dataframe tbody tr th:only-of-type {\n",
       "        vertical-align: middle;\n",
       "    }\n",
       "\n",
       "    .dataframe tbody tr th {\n",
       "        vertical-align: top;\n",
       "    }\n",
       "\n",
       "    .dataframe thead th {\n",
       "        text-align: right;\n",
       "    }\n",
       "</style>\n",
       "<table border=\"1\" class=\"dataframe\">\n",
       "  <thead>\n",
       "    <tr style=\"text-align: right;\">\n",
       "      <th></th>\n",
       "      <th>loan_amnt</th>\n",
       "      <th>term</th>\n",
       "      <th>int_rate</th>\n",
       "      <th>installment</th>\n",
       "      <th>grade</th>\n",
       "      <th>sub_grade</th>\n",
       "      <th>emp_length</th>\n",
       "      <th>home_ownership</th>\n",
       "      <th>annual_inc</th>\n",
       "      <th>issue_d</th>\n",
       "      <th>...</th>\n",
       "      <th>inq_last_6mths</th>\n",
       "      <th>open_acc</th>\n",
       "      <th>pub_rec</th>\n",
       "      <th>revol_util</th>\n",
       "      <th>int_rate_groups</th>\n",
       "      <th>open_acc_groups</th>\n",
       "      <th>revol_util_groups</th>\n",
       "      <th>annual_inc_groups</th>\n",
       "      <th>issue_month</th>\n",
       "      <th>issue_year</th>\n",
       "    </tr>\n",
       "  </thead>\n",
       "  <tbody>\n",
       "    <tr>\n",
       "      <th>0</th>\n",
       "      <td>5000</td>\n",
       "      <td>36 months</td>\n",
       "      <td>10.65</td>\n",
       "      <td>162.87</td>\n",
       "      <td>B</td>\n",
       "      <td>2</td>\n",
       "      <td>10</td>\n",
       "      <td>RENT</td>\n",
       "      <td>24000.0</td>\n",
       "      <td>Dec-11</td>\n",
       "      <td>...</td>\n",
       "      <td>1</td>\n",
       "      <td>3</td>\n",
       "      <td>0</td>\n",
       "      <td>83.7</td>\n",
       "      <td>9%-13%</td>\n",
       "      <td>2-10</td>\n",
       "      <td>80-100</td>\n",
       "      <td>3k-31k</td>\n",
       "      <td>Dec</td>\n",
       "      <td>2011</td>\n",
       "    </tr>\n",
       "    <tr>\n",
       "      <th>1</th>\n",
       "      <td>2500</td>\n",
       "      <td>60 months</td>\n",
       "      <td>15.27</td>\n",
       "      <td>59.83</td>\n",
       "      <td>C</td>\n",
       "      <td>4</td>\n",
       "      <td>0</td>\n",
       "      <td>RENT</td>\n",
       "      <td>30000.0</td>\n",
       "      <td>Dec-11</td>\n",
       "      <td>...</td>\n",
       "      <td>5</td>\n",
       "      <td>3</td>\n",
       "      <td>0</td>\n",
       "      <td>9.4</td>\n",
       "      <td>13%-17%</td>\n",
       "      <td>2-10</td>\n",
       "      <td>0-20</td>\n",
       "      <td>3k-31k</td>\n",
       "      <td>Dec</td>\n",
       "      <td>2011</td>\n",
       "    </tr>\n",
       "    <tr>\n",
       "      <th>2</th>\n",
       "      <td>2400</td>\n",
       "      <td>36 months</td>\n",
       "      <td>15.96</td>\n",
       "      <td>84.33</td>\n",
       "      <td>C</td>\n",
       "      <td>5</td>\n",
       "      <td>10</td>\n",
       "      <td>RENT</td>\n",
       "      <td>12252.0</td>\n",
       "      <td>Dec-11</td>\n",
       "      <td>...</td>\n",
       "      <td>2</td>\n",
       "      <td>2</td>\n",
       "      <td>0</td>\n",
       "      <td>98.5</td>\n",
       "      <td>13%-17%</td>\n",
       "      <td>2-10</td>\n",
       "      <td>80-100</td>\n",
       "      <td>3k-31k</td>\n",
       "      <td>Dec</td>\n",
       "      <td>2011</td>\n",
       "    </tr>\n",
       "    <tr>\n",
       "      <th>3</th>\n",
       "      <td>10000</td>\n",
       "      <td>36 months</td>\n",
       "      <td>13.49</td>\n",
       "      <td>339.31</td>\n",
       "      <td>C</td>\n",
       "      <td>1</td>\n",
       "      <td>10</td>\n",
       "      <td>RENT</td>\n",
       "      <td>49200.0</td>\n",
       "      <td>Dec-11</td>\n",
       "      <td>...</td>\n",
       "      <td>1</td>\n",
       "      <td>10</td>\n",
       "      <td>0</td>\n",
       "      <td>21.0</td>\n",
       "      <td>13%-17%</td>\n",
       "      <td>2-10</td>\n",
       "      <td>20-40</td>\n",
       "      <td>31k-58k</td>\n",
       "      <td>Dec</td>\n",
       "      <td>2011</td>\n",
       "    </tr>\n",
       "    <tr>\n",
       "      <th>5</th>\n",
       "      <td>5000</td>\n",
       "      <td>36 months</td>\n",
       "      <td>7.90</td>\n",
       "      <td>156.46</td>\n",
       "      <td>A</td>\n",
       "      <td>4</td>\n",
       "      <td>3</td>\n",
       "      <td>RENT</td>\n",
       "      <td>36000.0</td>\n",
       "      <td>Dec-11</td>\n",
       "      <td>...</td>\n",
       "      <td>3</td>\n",
       "      <td>9</td>\n",
       "      <td>0</td>\n",
       "      <td>28.3</td>\n",
       "      <td>5%-9%</td>\n",
       "      <td>2-10</td>\n",
       "      <td>20-40</td>\n",
       "      <td>31k-58k</td>\n",
       "      <td>Dec</td>\n",
       "      <td>2011</td>\n",
       "    </tr>\n",
       "  </tbody>\n",
       "</table>\n",
       "<p>5 rows × 24 columns</p>\n",
       "</div>"
      ],
      "text/plain": [
       "   loan_amnt        term  int_rate  installment grade  sub_grade  emp_length  \\\n",
       "0       5000   36 months     10.65       162.87     B          2          10   \n",
       "1       2500   60 months     15.27        59.83     C          4           0   \n",
       "2       2400   36 months     15.96        84.33     C          5          10   \n",
       "3      10000   36 months     13.49       339.31     C          1          10   \n",
       "5       5000   36 months      7.90       156.46     A          4           3   \n",
       "\n",
       "  home_ownership  annual_inc issue_d  ... inq_last_6mths open_acc  pub_rec  \\\n",
       "0           RENT     24000.0  Dec-11  ...              1        3        0   \n",
       "1           RENT     30000.0  Dec-11  ...              5        3        0   \n",
       "2           RENT     12252.0  Dec-11  ...              2        2        0   \n",
       "3           RENT     49200.0  Dec-11  ...              1       10        0   \n",
       "5           RENT     36000.0  Dec-11  ...              3        9        0   \n",
       "\n",
       "  revol_util  int_rate_groups  open_acc_groups  revol_util_groups  \\\n",
       "0       83.7           9%-13%             2-10             80-100   \n",
       "1        9.4          13%-17%             2-10               0-20   \n",
       "2       98.5          13%-17%             2-10             80-100   \n",
       "3       21.0          13%-17%             2-10              20-40   \n",
       "5       28.3            5%-9%             2-10              20-40   \n",
       "\n",
       "   annual_inc_groups issue_month issue_year  \n",
       "0             3k-31k         Dec       2011  \n",
       "1             3k-31k         Dec       2011  \n",
       "2             3k-31k         Dec       2011  \n",
       "3            31k-58k         Dec       2011  \n",
       "5            31k-58k         Dec       2011  \n",
       "\n",
       "[5 rows x 24 columns]"
      ]
     },
     "execution_count": 66,
     "metadata": {},
     "output_type": "execute_result"
    }
   ],
   "source": [
    "loan_data.head()"
   ]
  },
  {
   "cell_type": "code",
   "execution_count": 67,
   "id": "b0a9963e",
   "metadata": {},
   "outputs": [
    {
     "data": {
      "text/plain": [
       "<AxesSubplot:xlabel='issue_year', ylabel='count'>"
      ]
     },
     "execution_count": 67,
     "metadata": {},
     "output_type": "execute_result"
    },
    {
     "data": {
      "image/png": "[encoded data removed]",
      "text/plain": [
       "<Figure size 1500x1500 with 2 Axes>"
      ]
     },
     "metadata": {},
     "output_type": "display_data"
    }
   ],
   "source": [
    "plt.figure(figsize=(15,15))\n",
    "plt.subplot(221)\n",
    "sns.countplot(x='issue_month', data=loan_data[loan_data['loan_status']=='Charged Off'])\n",
    "plt.subplot(222)\n",
    "sns.countplot(x='issue_year', data=loan_data[loan_data['loan_status']=='Charged Off'])"
   ]
  },
  {
   "cell_type": "markdown",
   "id": "c378b928",
   "metadata": {},
   "source": [
    "Maximum number of defaults occured when the loan was sanctioned/issued in Dec. Loan issued in the year 2011"
   ]
  },
  {
   "cell_type": "markdown",
   "id": "f9a3a0ec",
   "metadata": {},
   "source": [
    "Analyzing installment,dti, loan_amnt"
   ]
  },
  {
   "cell_type": "code",
   "execution_count": 70,
   "id": "4f179144",
   "metadata": {},
   "outputs": [],
   "source": [
    "loan_data['installment_groups'] = pd.cut(loan_data['installment'], bins=10,precision =0,labels=['14-145','145-274','274-403','403-531','531-660','660-789','789-918','918-1047','1047-1176','1176-1305'])\n",
    "loan_data['loan_amnt_groups'] = pd.cut(loan_data['loan_amnt'], bins=7,precision =0,labels=['0-5k','5k-10k','10k-15k','15k-20k','20k-25k','25k-30k','30k-35k'])\n",
    "loan_data['dti_groups'] = pd.cut(loan_data['dti'], bins=5,precision =0,labels=['0-6','6-12','12-18','18-24','24-30'])"
   ]
  },
  {
   "cell_type": "markdown",
   "id": "ab0e3803",
   "metadata": {},
   "source": []
  },
  {
   "cell_type": "code",
   "execution_count": 72,
   "id": "7544ef54",
   "metadata": {},
   "outputs": [
    {
     "data": {
      "text/plain": [
       "<AxesSubplot:xlabel='loan_amnt_groups', ylabel='count'>"
      ]
     },
     "execution_count": 72,
     "metadata": {},
     "output_type": "execute_result"
    },
    {
     "data": {
      "image/png": "[encoded data removed]",
      "text/plain": [
       "<Figure size 1500x600 with 1 Axes>"
      ]
     },
     "metadata": {},
     "output_type": "display_data"
    }
   ],
   "source": [
    "fig,ax = plt.subplots(figsize = (15,6))\n",
    "ax.set_yscale('log')\n",
    "sns.countplot(x='loan_amnt_groups', data=loan_data[loan_data['loan_status']=='Charged Off'])"
   ]
  },
  {
   "cell_type": "code",
   "execution_count": 73,
   "id": "84545637",
   "metadata": {},
   "outputs": [
    {
     "data": {
      "text/plain": [
       "<AxesSubplot:xlabel='dti_groups', ylabel='count'>"
      ]
     },
     "execution_count": 73,
     "metadata": {},
     "output_type": "execute_result"
    },
    {
     "data": {
      "image/png": "[encoded data removed]",
      "text/plain": [
       "<Figure size 640x480 with 1 Axes>"
      ]
     },
     "metadata": {},
     "output_type": "display_data"
    }
   ],
   "source": [
    "sns.countplot(x='dti_groups', data=loan_data[loan_data['loan_status']=='Charged Off'])"
   ]
  },
  {
   "cell_type": "code",
   "execution_count": 74,
   "id": "716a1b4c",
   "metadata": {},
   "outputs": [
    {
     "data": {
      "text/plain": [
       "<AxesSubplot:xlabel='installment_groups', ylabel='count'>"
      ]
     },
     "execution_count": 74,
     "metadata": {},
     "output_type": "execute_result"
    },
    {
     "data": {
      "image/png": "[encoded data removed]",
      "text/plain": [
       "<Figure size 1500x600 with 1 Axes>"
      ]
     },
     "metadata": {},
     "output_type": "display_data"
    }
   ],
   "source": [
    "fig,ax = plt.subplots(figsize = (15,6))\n",
    "ax.set_yscale('log')\n",
    "sns.countplot(x='installment_groups', data=loan_data[loan_data['loan_status']=='Charged Off'])"
   ]
  },
  {
   "cell_type": "markdown",
   "id": "edf2a38c",
   "metadata": {},
   "source": [
    "Observations\n",
    "\n",
    "analysis for the charge of loan is as per the following conditions:\n",
    "\n",
    "Probability of defaulting occurs at:\n",
    "\n",
    "Applicants having house_ownership as 'RENT' and 'MORTGAGE', who use the loan to clear other debts, who receive interest at the rate of 13-17%, who have an income of range 31K to 58K, who have 20-37 open_acc, with employement length of 10,Loan amount is between 5429 - 10357, Dti is between 12-18\n",
    "When monthly installments are between 145-274, there are more defaulters in 36 months,(when no of enquires in last six month is zero,When the number of derogatory public records is 0 and\n",
    "When the purpose is 'debt_consolidation'.\n"
   ]
  },
  {
   "cell_type": "markdown",
   "id": "962c7dfc",
   "metadata": {},
   "source": []
  },
  {
   "cell_type": "markdown",
   "id": "c7477d13",
   "metadata": {},
   "source": []
  },
  {
   "cell_type": "markdown",
   "id": "b4d73e96",
   "metadata": {},
   "source": []
  },
  {
   "cell_type": "markdown",
   "id": "21ff4719",
   "metadata": {},
   "source": []
  },
  {
   "cell_type": "code",
   "execution_count": null,
   "id": "53ba48b8",
   "metadata": {},
   "outputs": [],
   "source": []
  }
 ],
 "metadata": {
  "kernelspec": {
   "display_name": "Python 3 (ipykernel)",
   "language": "python",
   "name": "python3"
  },
  "language_info": {
   "codemirror_mode": {
    "name": "ipython",
    "version": 3
   },
   "file_extension": ".py",
   "mimetype": "text/x-python",
   "name": "python",
   "nbconvert_exporter": "python",
   "pygments_lexer": "ipython3",
   "version": "3.9.13"
  }
 },
 "nbformat": 4,
 "nbformat_minor": 5
}
